{
 "cells": [
  {
   "cell_type": "code",
   "execution_count": 1,
   "id": "8d3f939f",
   "metadata": {},
   "outputs": [],
   "source": [
    "import json\n",
    "import pandas as pd\n",
    "import numpy as np\n",
    "from tqdm import tqdm\n",
    "\n",
    "\n",
    "def read_json(data_path, dataset_type):\n",
    "    with open(data_path+f\"{dataset_type}.json\", \"rb\") as f:\n",
    "        json_object = json.load(f)\n",
    "\n",
    "    return json_object\n",
    "\n",
    "\n",
    "def parse_visits(json_object):\n",
    "    # parse json\n",
    "    df = pd.DataFrame()\n",
    "    for j in range(len(list(json_object.keys()))):\n",
    "        key = list(json_object.keys())[j]\n",
    "        dfl1 = pd.DataFrame()\n",
    "        if \"visits\" in json_object[key][\"features\"]:\n",
    "            for i in range(len(json_object[key][\"features\"][\"visits\"])):\n",
    "                n = len(pd.json_normalize(json_object[key][\"features\"][\"visits\"][i][\"visits\"]))\n",
    "                dfl2 = pd.concat([\n",
    "                        pd.concat(\n",
    "                            [pd.json_normalize(json_object[key][\"features\"][\"visits\"][i])] * n, \n",
    "                            ignore_index=True\n",
    "                        )[[\"site-id\", \"first-seen\", \"last-seen\"]],\n",
    "                        pd.json_normalize(json_object[key][\"features\"][\"visits\"][i][\"visits\"])\n",
    "                    ], axis=1)\n",
    "                dfl1 = pd.concat([dfl1, dfl2]).reset_index(drop=True)\n",
    "        dfl1[\"user\"] = [key] * len(dfl1)\n",
    "        if \"target\" in json_object[key].keys():\n",
    "            dfl1[\"target\"] = json_object[key][\"target\"]\n",
    "        df = pd.concat([df, dfl1]).reset_index(drop=True)\n",
    "\n",
    "    df = df.explode(\"visited-items\", ignore_index=True)\n",
    "    df = df.explode(\"visited-general-categories\", ignore_index=True)\n",
    "    df = df.explode(\"visited-universal-brands\", ignore_index=True)\n",
    "    \n",
    "    return df \n",
    "\n",
    "def iterate_json(json_object, chunk_size):\n",
    "    items = list(json_object.items())\n",
    "    for i in range(0, len(items), chunk_size):\n",
    "        yield {k:v for k,v in items[i:i+chunk_size]}\n",
    "\n",
    "#timing\n",
    "def get_visits_dataset(data_path, chunk_size, dataset_type=\"train\"):\n",
    "    # read as json\n",
    "    json_object = read_json(data_path, dataset_type)\n",
    "    # json_object = dict(list(json_object.items())[:50])\n",
    "\n",
    "    for idx, chunk in enumerate(iterate_json(json_object, chunk_size)):\n",
    "        # get chunk idx\n",
    "        chunk_users = sorted([int(x[5:]) for x in list(chunk.keys())])\n",
    "        chunk_users = f\"{chunk_users[0]}_{chunk_users[-1]}\"\n",
    "\n",
    "        df = parse_visits(chunk)\n",
    "\n",
    "        # save as parquet by chunks\n",
    "        df.to_parquet(\n",
    "            data_path+f\"{dataset_type}/{idx}_{chunk_users}_{dataset_type}.parquet.gzip\",\n",
    "            compression=\"gzip\",\n",
    "            index=False\n",
    "        )"
   ]
  },
  {
   "cell_type": "code",
   "execution_count": 2,
   "id": "096568b9",
   "metadata": {},
   "outputs": [],
   "source": [
    "# Функция собирает все [\"site-meta\"]['site-id']\n",
    "\n",
    "def parse_site_meta_ids(json_object):\n",
    "\n",
    "    # Создаем пустой df\n",
    "    df = pd.DataFrame()\n",
    "    # Проходим по ключам словаря (users)\n",
    "    for j in range(len(list(json_object.keys()))):\n",
    "        key = list(json_object.keys())[j]\n",
    "        # Создаем пустой df для итерации по юзерам\n",
    "        dfl1 = pd.DataFrame()\n",
    "        if \"site-meta\" in json_object[key][\"features\"]:\n",
    "            dfl2 = pd.json_normalize(json_object[key][\"features\"][\"site-meta\"])['site-id']\n",
    "            dfl1 = pd.concat([dfl1, dfl2]).reset_index(drop=True)\n",
    "        # Добавляем ключ (user)\n",
    "        dfl1[\"user\"] = [key] * len(dfl1)\n",
    "        # Добавляем пол (target)\n",
    "        if \"target\" in json_object[key].keys():\n",
    "            dfl1[\"target\"] = json_object[key][\"target\"]\n",
    "        # Пришиваем полученный df к итоговому\n",
    "        df = pd.concat([df, dfl1]).reset_index(drop=True)\n",
    "    \n",
    "    return df "
   ]
  },
  {
   "cell_type": "code",
   "execution_count": 3,
   "id": "dba06ec1",
   "metadata": {},
   "outputs": [],
   "source": [
    "# Функция собирает все [\"last-visits-in-categories\"]['category']\n",
    "\n",
    "def parse_category(json_object):\n",
    "\n",
    "    # Создаем пустой df\n",
    "    df = pd.DataFrame()\n",
    "    # Проходим по ключам словаря (users)\n",
    "    for j in range(len(list(json_object.keys()))):\n",
    "        key = list(json_object.keys())[j]\n",
    "        # Создаем пустой df для итерации по юзерам\n",
    "        dfl1 = pd.DataFrame()\n",
    "        if \"last-visits-in-categories\" in json_object[key][\"features\"]:\n",
    "            dfl2 = pd.json_normalize(json_object[key][\"features\"][\"last-visits-in-categories\"])['category']\n",
    "            dfl1 = pd.concat([dfl1, dfl2]).reset_index(drop=True)\n",
    "        # Добавляем ключ (user)\n",
    "        dfl1[\"user\"] = [key] * len(dfl1)\n",
    "        # Добавляем пол (target)\n",
    "        if \"target\" in json_object[key].keys():\n",
    "            dfl1[\"target\"] = json_object[key][\"target\"]\n",
    "        # Пришиваем полученный df к итоговому\n",
    "        df = pd.concat([df, dfl1]).reset_index(drop=True)\n",
    "    \n",
    "    return df "
   ]
  },
  {
   "cell_type": "code",
   "execution_count": 4,
   "id": "c1414cf5",
   "metadata": {},
   "outputs": [],
   "source": [
    "# Функция собирает все [\"exchange-sessions\"]['accepted-site-id']\n",
    "\n",
    "def parse_accepted_site_ids(json_object):\n",
    "\n",
    "    # Создаем пустой df\n",
    "    df = pd.DataFrame()\n",
    "    # Проходим по ключам словаря (users)\n",
    "    for j in range(len(list(json_object.keys()))):\n",
    "        key = list(json_object.keys())[j]\n",
    "        # Создаем пустой df для итерации по юзерам\n",
    "        dfl1 = pd.DataFrame()\n",
    "        if \"exchange-sessions\" in json_object[key][\"features\"]:\n",
    "            if \"accepted-site-id\" in pd.DataFrame(json_object[key][\"features\"][\"exchange-sessions\"]).columns:\n",
    "                dfl2 = pd.json_normalize(json_object[key][\"features\"][\"exchange-sessions\"])['accepted-site-id'].dropna()\n",
    "                dfl1 = pd.concat([dfl1, dfl2]).reset_index(drop=True)\n",
    "            else:\n",
    "                continue\n",
    "        else:\n",
    "            continue\n",
    "        # Добавляем ключ (user)\n",
    "        dfl1[\"user\"] = [key] * len(dfl1)\n",
    "        # Добавляем пол (target)\n",
    "        if \"target\" in json_object[key].keys():\n",
    "            dfl1[\"target\"] = json_object[key][\"target\"]\n",
    "        # Пришиваем полученный df к итоговому\n",
    "        df = pd.concat([df, dfl1]).reset_index(drop=True)\n",
    "    \n",
    "    return df"
   ]
  },
  {
   "cell_type": "code",
   "execution_count": 5,
   "id": "9ab4a7f2",
   "metadata": {},
   "outputs": [],
   "source": [
    "# Функция собирает все [\"exchange-sessions\"]['clicks']\n",
    "\n",
    "def parse_clicks(json_object):\n",
    "\n",
    "    # Создаем пустой df\n",
    "    df = pd.DataFrame()\n",
    "    # Проходим по ключам словаря (users)\n",
    "    for j in range(len(list(json_object.keys()))):\n",
    "        key = list(json_object.keys())[j]\n",
    "        # Создаем пустой df для итерации по юзерам\n",
    "        dfl1 = pd.DataFrame()\n",
    "        if \"exchange-sessions\" in json_object[key][\"features\"]:\n",
    "            for i in range(len(json_object[key][\"features\"][\"exchange-sessions\"])):\n",
    "                if 'clicks' in json_object[key][\"features\"][\"exchange-sessions\"][i].keys():\n",
    "                    dfl2 = pd.json_normalize(json_object[key][\"features\"][\"exchange-sessions\"][i][\"clicks\"])['site-id']\n",
    "                    dfl1 = pd.concat([dfl1, dfl2]).reset_index(drop=True)\n",
    "                else:\n",
    "                    continue\n",
    "        else:\n",
    "            continue\n",
    "        # Добавляем ключ (user)\n",
    "        dfl1[\"user\"] = [key] * len(dfl1)\n",
    "        # Добавляем пол (target)\n",
    "        if \"target\" in json_object[key].keys():\n",
    "            dfl1[\"target\"] = json_object[key][\"target\"]\n",
    "        # Пришиваем полученный df к итоговому\n",
    "        df = pd.concat([df, dfl1]).reset_index(drop=True)\n",
    "    \n",
    "    return df"
   ]
  },
  {
   "cell_type": "code",
   "execution_count": 6,
   "id": "44272e18",
   "metadata": {},
   "outputs": [],
   "source": [
    "# Функция собирает все [\"exchange-sessions\"]['accepted-site-id'] & ['clicks']\n",
    "\n",
    "def parse_accepted_n_clicks(json_object):\n",
    "\n",
    "    # Создаем пустой df\n",
    "    df = pd.DataFrame()\n",
    "    # Проходим по ключам словаря (users)\n",
    "    for j in range(len(list(json_object.keys()))):\n",
    "        key = list(json_object.keys())[j]\n",
    "        # Создаем пустой df для итерации по юзерам\n",
    "        dfl1 = pd.DataFrame()\n",
    "        if \"exchange-sessions\" in json_object[key][\"features\"]:\n",
    "            for i in range(len(json_object[key][\"features\"][\"exchange-sessions\"])):\n",
    "                if 'clicks' in json_object[key][\"features\"][\"exchange-sessions\"][i].keys():\n",
    "                    dfl2 = pd.json_normalize(json_object[key][\"features\"][\"exchange-sessions\"][i][\"clicks\"])['site-id']\n",
    "                    dfl1 = pd.concat([dfl1, dfl2]).reset_index(drop=True)\n",
    "                else:\n",
    "                    if 'accepted-site-id' in json_object[key][\"features\"][\"exchange-sessions\"][i].keys():\n",
    "                        dfl2 = pd.json_normalize(json_object[key][\"features\"][\"exchange-sessions\"])['accepted-site-id']\n",
    "                        dfl1 = pd.concat([dfl1, dfl2]).reset_index(drop=True)\n",
    "                    else:\n",
    "                        continue\n",
    "        else:\n",
    "            continue\n",
    "        # Добавляем ключ (user)\n",
    "        dfl1[\"user\"] = [key] * len(dfl1)\n",
    "        # Добавляем пол (target)\n",
    "        if \"target\" in json_object[key].keys():\n",
    "            dfl1[\"target\"] = json_object[key][\"target\"]\n",
    "        # Пришиваем полученный df к итоговому\n",
    "        df = pd.concat([df, dfl1]).reset_index(drop=True)\n",
    "    \n",
    "    return df"
   ]
  },
  {
   "cell_type": "code",
   "execution_count": 7,
   "id": "5ebd8f3a",
   "metadata": {},
   "outputs": [],
   "source": [
    "# Функция замены site_id на унифицированный sex_score\n",
    "\n",
    "def replace_site_id(df, column_name=0):\n",
    "    # Переводим пол в бинарный признак через One-Hot Encoding\n",
    "    df_encoded = pd.get_dummies(df, columns=['target'], prefix='target')\n",
    "    # Группируем по сайту, считаем sex.score (уровень феминности) для каждого сайта\n",
    "    df_grouped = df_encoded.groupby(column_name).agg({'user':'count', 'target_female':'sum'}).reset_index()\n",
    "    df_grouped['target_female'] = df_grouped['target_female'] / df_grouped['user']\n",
    "    # Переводим sex.scores в словарь\n",
    "    df_grouped.set_index(column_name, drop=True, inplace=True)\n",
    "    sex_score_dic = df_grouped['target_female'].to_dict()\n",
    "    # Заменяем site_id на sex.score\n",
    "    df[column_name] = df[column_name].replace(sex_score_dic)\n",
    "    df = df.groupby('user').agg({column_name: 'mean', 'target': 'last'}).reset_index()\n",
    "    return df"
   ]
  },
  {
   "cell_type": "code",
   "execution_count": 8,
   "id": "75c357bd",
   "metadata": {},
   "outputs": [],
   "source": [
    "data_path = \"flocktory/data/\"\n",
    "dataset_type = \"val\"\n",
    "data = read_json(data_path, dataset_type)"
   ]
  },
  {
   "cell_type": "code",
   "execution_count": 9,
   "id": "30dd4636",
   "metadata": {},
   "outputs": [],
   "source": [
    "visits = parse_visits(data)"
   ]
  },
  {
   "cell_type": "code",
   "execution_count": 10,
   "id": "412340d9",
   "metadata": {},
   "outputs": [
    {
     "data": {
      "text/html": [
       "<div>\n",
       "<style scoped>\n",
       "    .dataframe tbody tr th:only-of-type {\n",
       "        vertical-align: middle;\n",
       "    }\n",
       "\n",
       "    .dataframe tbody tr th {\n",
       "        vertical-align: top;\n",
       "    }\n",
       "\n",
       "    .dataframe thead th {\n",
       "        text-align: right;\n",
       "    }\n",
       "</style>\n",
       "<table border=\"1\" class=\"dataframe\">\n",
       "  <thead>\n",
       "    <tr style=\"text-align: right;\">\n",
       "      <th></th>\n",
       "      <th>site-id</th>\n",
       "      <th>first-seen</th>\n",
       "      <th>last-seen</th>\n",
       "      <th>visited-at</th>\n",
       "      <th>session-duration</th>\n",
       "      <th>pages-count</th>\n",
       "      <th>user</th>\n",
       "      <th>target</th>\n",
       "      <th>visited-items</th>\n",
       "      <th>visited-general-categories</th>\n",
       "      <th>visited-universal-brands</th>\n",
       "    </tr>\n",
       "  </thead>\n",
       "  <tbody>\n",
       "    <tr>\n",
       "      <th>23448124</th>\n",
       "      <td>20.0</td>\n",
       "      <td>1.676459e+09</td>\n",
       "      <td>1.698917e+09</td>\n",
       "      <td>1.697812e+09</td>\n",
       "      <td>4343.0</td>\n",
       "      <td>122.0</td>\n",
       "      <td>user_141558</td>\n",
       "      <td>male</td>\n",
       "      <td>item_1426</td>\n",
       "      <td>13314855</td>\n",
       "      <td>16894</td>\n",
       "    </tr>\n",
       "    <tr>\n",
       "      <th>17075383</th>\n",
       "      <td>20.0</td>\n",
       "      <td>1.696833e+09</td>\n",
       "      <td>1.698915e+09</td>\n",
       "      <td>1.698831e+09</td>\n",
       "      <td>200.0</td>\n",
       "      <td>6.0</td>\n",
       "      <td>user_140812</td>\n",
       "      <td>female</td>\n",
       "      <td>item_562766</td>\n",
       "      <td>13022251</td>\n",
       "      <td>13724</td>\n",
       "    </tr>\n",
       "    <tr>\n",
       "      <th>13408370</th>\n",
       "      <td>20.0</td>\n",
       "      <td>1.659804e+09</td>\n",
       "      <td>1.698655e+09</td>\n",
       "      <td>1.698309e+09</td>\n",
       "      <td>0.0</td>\n",
       "      <td>1.0</td>\n",
       "      <td>user_138409</td>\n",
       "      <td>female</td>\n",
       "      <td>item_459884</td>\n",
       "      <td>12699910</td>\n",
       "      <td>1942675</td>\n",
       "    </tr>\n",
       "  </tbody>\n",
       "</table>\n",
       "</div>"
      ],
      "text/plain": [
       "          site-id    first-seen     last-seen    visited-at  session-duration  \\\n",
       "23448124     20.0  1.676459e+09  1.698917e+09  1.697812e+09            4343.0   \n",
       "17075383     20.0  1.696833e+09  1.698915e+09  1.698831e+09             200.0   \n",
       "13408370     20.0  1.659804e+09  1.698655e+09  1.698309e+09               0.0   \n",
       "\n",
       "          pages-count         user  target visited-items  \\\n",
       "23448124        122.0  user_141558    male     item_1426   \n",
       "17075383          6.0  user_140812  female   item_562766   \n",
       "13408370          1.0  user_138409  female   item_459884   \n",
       "\n",
       "         visited-general-categories visited-universal-brands  \n",
       "23448124                   13314855                    16894  \n",
       "17075383                   13022251                    13724  \n",
       "13408370                   12699910                  1942675  "
      ]
     },
     "execution_count": 10,
     "metadata": {},
     "output_type": "execute_result"
    }
   ],
   "source": [
    "visits.sample(3)"
   ]
  },
  {
   "cell_type": "code",
   "execution_count": 11,
   "id": "aca5f094",
   "metadata": {},
   "outputs": [
    {
     "data": {
      "text/plain": [
       "site-id                       0.000000\n",
       "first-seen                    0.000000\n",
       "last-seen                     0.000000\n",
       "visited-at                    0.000000\n",
       "session-duration              0.000000\n",
       "pages-count                   0.000000\n",
       "user                          0.000000\n",
       "target                        0.000000\n",
       "visited-items                 0.009908\n",
       "visited-general-categories    0.012323\n",
       "visited-universal-brands      0.015231\n",
       "dtype: float64"
      ]
     },
     "execution_count": 11,
     "metadata": {},
     "output_type": "execute_result"
    }
   ],
   "source": [
    "visits.isna().mean()"
   ]
  },
  {
   "cell_type": "code",
   "execution_count": 12,
   "id": "fc744899",
   "metadata": {},
   "outputs": [
    {
     "data": {
      "text/plain": [
       "454"
      ]
     },
     "execution_count": 12,
     "metadata": {},
     "output_type": "execute_result"
    }
   ],
   "source": [
    "visits['site-id'].nunique()"
   ]
  },
  {
   "cell_type": "code",
   "execution_count": 13,
   "id": "c496be16",
   "metadata": {},
   "outputs": [
    {
     "data": {
      "text/plain": [
       "242478"
      ]
     },
     "execution_count": 13,
     "metadata": {},
     "output_type": "execute_result"
    }
   ],
   "source": [
    "visits['visited-items'].nunique()"
   ]
  },
  {
   "cell_type": "code",
   "execution_count": 69,
   "id": "70e77fe6",
   "metadata": {},
   "outputs": [],
   "source": [
    "# visits_site_ids = replace_site_id(visits[['visited-items', 'user', 'target']], column_name='visited-items') - бесконечно долго"
   ]
  },
  {
   "cell_type": "code",
   "execution_count": null,
   "id": "00d2c468",
   "metadata": {},
   "outputs": [],
   "source": [
    "import pandas as pd\n",
    "from sklearn.model_selection import train_test_split\n",
    "from sklearn.linear_model import LogisticRegression\n",
    "from sklearn.metrics import accuracy_score, classification_report, confusion_matrix\n",
    "\n",
    "X = visits_site_ids[['visited-items']]\n",
    "y = visits_site_ids['target']\n",
    "\n",
    "X_train, X_test, y_train, y_test = train_test_split(X, y, test_size=0.2, random_state=42)\n",
    "\n",
    "model = LogisticRegression()\n",
    "\n",
    "model.fit(X_train, y_train)\n",
    "\n",
    "y_pred = model.predict(X_test)\n",
    "\n",
    "# Calculate accuracy\n",
    "accuracy = accuracy_score(y_test, y_pred)\n",
    "print(f'Accuracy: {accuracy:.2f}')\n",
    "\n",
    "# Display confusion matrix\n",
    "conf_matrix = confusion_matrix(y_test, y_pred)\n",
    "print('Confusion Matrix:')\n",
    "print(conf_matrix)\n",
    "\n",
    "# Display classification report\n",
    "class_report = classification_report(y_test, y_pred)\n",
    "print('Classification Report:')\n",
    "print(class_report)"
   ]
  },
  {
   "cell_type": "code",
   "execution_count": 14,
   "id": "06ba12d8",
   "metadata": {},
   "outputs": [
    {
     "data": {
      "text/plain": [
       "2981"
      ]
     },
     "execution_count": 14,
     "metadata": {},
     "output_type": "execute_result"
    }
   ],
   "source": [
    "visits['visited-general-categories'].nunique()"
   ]
  },
  {
   "cell_type": "code",
   "execution_count": 15,
   "id": "e49e30ef",
   "metadata": {},
   "outputs": [
    {
     "name": "stderr",
     "output_type": "stream",
     "text": [
      "C:\\Users\\nykmy\\AppData\\Local\\Temp\\ipykernel_11876\\1788893656.py:13: SettingWithCopyWarning: \n",
      "A value is trying to be set on a copy of a slice from a DataFrame.\n",
      "Try using .loc[row_indexer,col_indexer] = value instead\n",
      "\n",
      "See the caveats in the documentation: https://pandas.pydata.org/pandas-docs/stable/user_guide/indexing.html#returning-a-view-versus-a-copy\n",
      "  df[column_name] = df[column_name].replace(sex_score_dic)\n"
     ]
    }
   ],
   "source": [
    "visited_general_categories = replace_site_id(visits[['visited-general-categories', 'user', 'target']], column_name='visited-general-categories')"
   ]
  },
  {
   "cell_type": "code",
   "execution_count": 18,
   "id": "40fdec5c",
   "metadata": {},
   "outputs": [
    {
     "name": "stdout",
     "output_type": "stream",
     "text": [
      "Accuracy: 0.57\n",
      "Confusion Matrix:\n",
      "[[1165 1504]\n",
      " [ 805 1935]]\n",
      "Classification Report:\n",
      "              precision    recall  f1-score   support\n",
      "\n",
      "      female       0.59      0.44      0.50      2669\n",
      "        male       0.56      0.71      0.63      2740\n",
      "\n",
      "    accuracy                           0.57      5409\n",
      "   macro avg       0.58      0.57      0.56      5409\n",
      "weighted avg       0.58      0.57      0.57      5409\n",
      "\n"
     ]
    }
   ],
   "source": [
    "import pandas as pd\n",
    "from sklearn.model_selection import train_test_split\n",
    "from sklearn.linear_model import LogisticRegression\n",
    "from sklearn.metrics import accuracy_score, classification_report, confusion_matrix\n",
    "\n",
    "X = visited_general_categories[['visited-general-categories']].fillna(0.5)\n",
    "y = visited_general_categories['target']\n",
    "\n",
    "X_train, X_test, y_train, y_test = train_test_split(X, y, test_size=0.2, random_state=42)\n",
    "\n",
    "model = LogisticRegression()\n",
    "\n",
    "model.fit(X_train, y_train)\n",
    "\n",
    "y_pred = model.predict(X_test)\n",
    "\n",
    "# Calculate accuracy\n",
    "accuracy = accuracy_score(y_test, y_pred)\n",
    "print(f'Accuracy: {accuracy:.2f}')\n",
    "\n",
    "# Display confusion matrix\n",
    "conf_matrix = confusion_matrix(y_test, y_pred)\n",
    "print('Confusion Matrix:')\n",
    "print(conf_matrix)\n",
    "\n",
    "# Display classification report\n",
    "class_report = classification_report(y_test, y_pred)\n",
    "print('Classification Report:')\n",
    "print(class_report)"
   ]
  },
  {
   "cell_type": "code",
   "execution_count": 509,
   "id": "18ac6d82",
   "metadata": {},
   "outputs": [
    {
     "data": {
      "text/plain": [
       "18461"
      ]
     },
     "execution_count": 509,
     "metadata": {},
     "output_type": "execute_result"
    }
   ],
   "source": [
    "visits['visited-universal-brands'].nunique()"
   ]
  },
  {
   "cell_type": "code",
   "execution_count": 37,
   "id": "36a65fbb",
   "metadata": {},
   "outputs": [
    {
     "name": "stderr",
     "output_type": "stream",
     "text": [
      "C:\\Users\\nykmy\\AppData\\Local\\Temp\\ipykernel_11876\\1788893656.py:13: SettingWithCopyWarning: \n",
      "A value is trying to be set on a copy of a slice from a DataFrame.\n",
      "Try using .loc[row_indexer,col_indexer] = value instead\n",
      "\n",
      "See the caveats in the documentation: https://pandas.pydata.org/pandas-docs/stable/user_guide/indexing.html#returning-a-view-versus-a-copy\n",
      "  df[column_name] = df[column_name].replace(sex_score_dic)\n"
     ]
    }
   ],
   "source": [
    "visited_universal_brands = replace_site_id(visits[['visited-universal-brands', 'user', 'target']], column_name='visited-universal-brands')"
   ]
  },
  {
   "cell_type": "code",
   "execution_count": 70,
   "id": "9a1aeacb",
   "metadata": {},
   "outputs": [
    {
     "data": {
      "text/plain": [
       "user                        0.00000\n",
       "visited-universal-brands    0.48937\n",
       "target                      0.00000\n",
       "dtype: float64"
      ]
     },
     "execution_count": 70,
     "metadata": {},
     "output_type": "execute_result"
    }
   ],
   "source": [
    "visited_universal_brands.isna().mean()"
   ]
  },
  {
   "cell_type": "code",
   "execution_count": 40,
   "id": "dad2d853",
   "metadata": {},
   "outputs": [
    {
     "name": "stdout",
     "output_type": "stream",
     "text": [
      "Accuracy: 0.63\n",
      "Confusion Matrix:\n",
      "[[1133 1536]\n",
      " [ 477 2263]]\n",
      "Classification Report:\n",
      "              precision    recall  f1-score   support\n",
      "\n",
      "      female       0.70      0.42      0.53      2669\n",
      "        male       0.60      0.83      0.69      2740\n",
      "\n",
      "    accuracy                           0.63      5409\n",
      "   macro avg       0.65      0.63      0.61      5409\n",
      "weighted avg       0.65      0.63      0.61      5409\n",
      "\n"
     ]
    }
   ],
   "source": [
    "import pandas as pd\n",
    "from sklearn.model_selection import train_test_split\n",
    "from sklearn.linear_model import LogisticRegression\n",
    "from sklearn.metrics import accuracy_score, classification_report, confusion_matrix\n",
    "\n",
    "X = visited_universal_brands[['visited-universal-brands']].fillna(0.5)\n",
    "y = visited_universal_brands['target']\n",
    "\n",
    "X_train, X_test, y_train, y_test = train_test_split(X, y, test_size=0.2, random_state=42)\n",
    "\n",
    "model = LogisticRegression()\n",
    "\n",
    "model.fit(X_train, y_train)\n",
    "\n",
    "y_pred = model.predict(X_test)\n",
    "\n",
    "# Calculate accuracy\n",
    "accuracy = accuracy_score(y_test, y_pred)\n",
    "print(f'Accuracy: {accuracy:.2f}')\n",
    "\n",
    "# Display confusion matrix\n",
    "conf_matrix = confusion_matrix(y_test, y_pred)\n",
    "print('Confusion Matrix:')\n",
    "print(conf_matrix)\n",
    "\n",
    "# Display classification report\n",
    "class_report = classification_report(y_test, y_pred)\n",
    "print('Classification Report:')\n",
    "print(class_report)"
   ]
  },
  {
   "cell_type": "code",
   "execution_count": 511,
   "id": "d39cba55",
   "metadata": {},
   "outputs": [
    {
     "data": {
      "text/plain": [
       "count    4.008714e+07\n",
       "mean     1.181306e+03\n",
       "std      1.634129e+03\n",
       "min      0.000000e+00\n",
       "25%      6.100000e+01\n",
       "50%      4.410000e+02\n",
       "75%      1.778000e+03\n",
       "max      1.564900e+04\n",
       "Name: session-duration, dtype: float64"
      ]
     },
     "execution_count": 511,
     "metadata": {},
     "output_type": "execute_result"
    }
   ],
   "source": [
    "visits['session-duration'].describe()"
   ]
  },
  {
   "cell_type": "code",
   "execution_count": 33,
   "id": "b9407160",
   "metadata": {},
   "outputs": [],
   "source": [
    "visits_session_duration = visits.groupby('user').agg({'session-duration': 'mean', 'target': 'last'})"
   ]
  },
  {
   "cell_type": "code",
   "execution_count": 34,
   "id": "60112bcc",
   "metadata": {},
   "outputs": [
    {
     "name": "stdout",
     "output_type": "stream",
     "text": [
      "Accuracy: 0.52\n",
      "Confusion Matrix:\n",
      "[[ 975 1694]\n",
      " [ 885 1855]]\n",
      "Classification Report:\n",
      "              precision    recall  f1-score   support\n",
      "\n",
      "      female       0.52      0.37      0.43      2669\n",
      "        male       0.52      0.68      0.59      2740\n",
      "\n",
      "    accuracy                           0.52      5409\n",
      "   macro avg       0.52      0.52      0.51      5409\n",
      "weighted avg       0.52      0.52      0.51      5409\n",
      "\n"
     ]
    }
   ],
   "source": [
    "import pandas as pd\n",
    "from sklearn.model_selection import train_test_split\n",
    "from sklearn.linear_model import LogisticRegression\n",
    "from sklearn.metrics import accuracy_score, classification_report, confusion_matrix\n",
    "\n",
    "X = visits_session_duration[['session-duration']]\n",
    "y = visits_session_duration['target']\n",
    "\n",
    "X_train, X_test, y_train, y_test = train_test_split(X, y, test_size=0.2, random_state=42)\n",
    "\n",
    "model = LogisticRegression()\n",
    "\n",
    "model.fit(X_train, y_train)\n",
    "\n",
    "y_pred = model.predict(X_test)\n",
    "\n",
    "# Calculate accuracy\n",
    "accuracy = accuracy_score(y_test, y_pred)\n",
    "print(f'Accuracy: {accuracy:.2f}')\n",
    "\n",
    "# Display confusion matrix\n",
    "conf_matrix = confusion_matrix(y_test, y_pred)\n",
    "print('Confusion Matrix:')\n",
    "print(conf_matrix)\n",
    "\n",
    "# Display classification report\n",
    "class_report = classification_report(y_test, y_pred)\n",
    "print('Classification Report:')\n",
    "print(class_report)"
   ]
  },
  {
   "cell_type": "code",
   "execution_count": 512,
   "id": "908cbd2d",
   "metadata": {},
   "outputs": [
    {
     "data": {
      "text/plain": [
       "count    4.008714e+07\n",
       "mean     2.862516e+01\n",
       "std      4.645698e+01\n",
       "min      1.000000e+00\n",
       "25%      2.000000e+00\n",
       "50%      8.000000e+00\n",
       "75%      3.500000e+01\n",
       "max      9.220000e+02\n",
       "Name: pages-count, dtype: float64"
      ]
     },
     "execution_count": 512,
     "metadata": {},
     "output_type": "execute_result"
    }
   ],
   "source": [
    "visits['pages-count'].describe()"
   ]
  },
  {
   "cell_type": "code",
   "execution_count": 35,
   "id": "515460a9",
   "metadata": {},
   "outputs": [],
   "source": [
    "visits_pages_count = visits.groupby('user').agg({'pages-count': 'mean', 'target': 'last'})"
   ]
  },
  {
   "cell_type": "code",
   "execution_count": 36,
   "id": "89ef57b4",
   "metadata": {},
   "outputs": [
    {
     "name": "stdout",
     "output_type": "stream",
     "text": [
      "Accuracy: 0.53\n",
      "Confusion Matrix:\n",
      "[[ 907 1762]\n",
      " [ 807 1933]]\n",
      "Classification Report:\n",
      "              precision    recall  f1-score   support\n",
      "\n",
      "      female       0.53      0.34      0.41      2669\n",
      "        male       0.52      0.71      0.60      2740\n",
      "\n",
      "    accuracy                           0.53      5409\n",
      "   macro avg       0.53      0.52      0.51      5409\n",
      "weighted avg       0.53      0.53      0.51      5409\n",
      "\n"
     ]
    }
   ],
   "source": [
    "import pandas as pd\n",
    "from sklearn.model_selection import train_test_split\n",
    "from sklearn.linear_model import LogisticRegression\n",
    "from sklearn.metrics import accuracy_score, classification_report, confusion_matrix\n",
    "\n",
    "X = visits_pages_count[['pages-count']]\n",
    "y = visits_pages_count['target']\n",
    "\n",
    "X_train, X_test, y_train, y_test = train_test_split(X, y, test_size=0.2, random_state=42)\n",
    "\n",
    "model = LogisticRegression()\n",
    "\n",
    "model.fit(X_train, y_train)\n",
    "\n",
    "y_pred = model.predict(X_test)\n",
    "\n",
    "# Calculate accuracy\n",
    "accuracy = accuracy_score(y_test, y_pred)\n",
    "print(f'Accuracy: {accuracy:.2f}')\n",
    "\n",
    "# Display confusion matrix\n",
    "conf_matrix = confusion_matrix(y_test, y_pred)\n",
    "print('Confusion Matrix:')\n",
    "print(conf_matrix)\n",
    "\n",
    "# Display classification report\n",
    "class_report = classification_report(y_test, y_pred)\n",
    "print('Classification Report:')\n",
    "print(class_report)"
   ]
  },
  {
   "cell_type": "code",
   "execution_count": 47,
   "id": "f11e88b2",
   "metadata": {},
   "outputs": [],
   "source": [
    "meta_ids = parse_site_meta_ids(data)"
   ]
  },
  {
   "cell_type": "code",
   "execution_count": 48,
   "id": "f4927f2e",
   "metadata": {},
   "outputs": [],
   "source": [
    "replaced_meta_df = replace_site_id(meta_ids)"
   ]
  },
  {
   "cell_type": "code",
   "execution_count": 49,
   "id": "0f29c279",
   "metadata": {},
   "outputs": [
    {
     "name": "stdout",
     "output_type": "stream",
     "text": [
      "Accuracy: 0.80\n",
      "Confusion Matrix:\n",
      "[[2216  566]\n",
      " [ 557 2151]]\n",
      "Classification Report:\n",
      "              precision    recall  f1-score   support\n",
      "\n",
      "      female       0.80      0.80      0.80      2782\n",
      "        male       0.79      0.79      0.79      2708\n",
      "\n",
      "    accuracy                           0.80      5490\n",
      "   macro avg       0.80      0.80      0.80      5490\n",
      "weighted avg       0.80      0.80      0.80      5490\n",
      "\n"
     ]
    }
   ],
   "source": [
    "import pandas as pd\n",
    "from sklearn.model_selection import train_test_split\n",
    "from sklearn.linear_model import LogisticRegression\n",
    "from sklearn.metrics import accuracy_score, classification_report, confusion_matrix\n",
    "\n",
    "X = replaced_meta_df[[0]]\n",
    "y = replaced_meta_df['target']\n",
    "\n",
    "X_train, X_test, y_train, y_test = train_test_split(X, y, test_size=0.2, random_state=42)\n",
    "\n",
    "model = LogisticRegression()\n",
    "\n",
    "model.fit(X_train, y_train)\n",
    "\n",
    "y_pred = model.predict(X_test)\n",
    "\n",
    "# Calculate accuracy\n",
    "accuracy = accuracy_score(y_test, y_pred)\n",
    "print(f'Accuracy: {accuracy:.2f}')\n",
    "\n",
    "# Display confusion matrix\n",
    "conf_matrix = confusion_matrix(y_test, y_pred)\n",
    "print('Confusion Matrix:')\n",
    "print(conf_matrix)\n",
    "\n",
    "# Display classification report\n",
    "class_report = classification_report(y_test, y_pred)\n",
    "print('Classification Report:')\n",
    "print(class_report)"
   ]
  },
  {
   "cell_type": "code",
   "execution_count": 216,
   "id": "2089e076",
   "metadata": {},
   "outputs": [],
   "source": [
    "accepted_site_ids = parse_accepted_site_ids(val)"
   ]
  },
  {
   "cell_type": "code",
   "execution_count": 501,
   "id": "defa17d3",
   "metadata": {},
   "outputs": [],
   "source": [
    "replaced_accepted_df = replace_site_id(accepted_site_ids)"
   ]
  },
  {
   "cell_type": "code",
   "execution_count": 502,
   "id": "3ce9f508",
   "metadata": {},
   "outputs": [
    {
     "name": "stdout",
     "output_type": "stream",
     "text": [
      "Accuracy: 0.66\n",
      "Confusion Matrix:\n",
      "[[1120  420]\n",
      " [ 529  712]]\n",
      "Classification Report:\n",
      "              precision    recall  f1-score   support\n",
      "\n",
      "      female       0.68      0.73      0.70      1540\n",
      "        male       0.63      0.57      0.60      1241\n",
      "\n",
      "    accuracy                           0.66      2781\n",
      "   macro avg       0.65      0.65      0.65      2781\n",
      "weighted avg       0.66      0.66      0.66      2781\n",
      "\n"
     ]
    }
   ],
   "source": [
    "import pandas as pd\n",
    "from sklearn.model_selection import train_test_split\n",
    "from sklearn.linear_model import LogisticRegression\n",
    "from sklearn.metrics import accuracy_score, classification_report, confusion_matrix\n",
    "\n",
    "X = replaced_accepted_df[[0]]\n",
    "y = replaced_accepted_df['target']\n",
    "\n",
    "X_train, X_test, y_train, y_test = train_test_split(X, y, test_size=0.2, random_state=42)\n",
    "\n",
    "model = LogisticRegression()\n",
    "\n",
    "model.fit(X_train, y_train)\n",
    "\n",
    "y_pred = model.predict(X_test)\n",
    "\n",
    "# Calculate accuracy\n",
    "accuracy = accuracy_score(y_test, y_pred)\n",
    "print(f'Accuracy: {accuracy:.2f}')\n",
    "\n",
    "# Display confusion matrix\n",
    "conf_matrix = confusion_matrix(y_test, y_pred)\n",
    "print('Confusion Matrix:')\n",
    "print(conf_matrix)\n",
    "\n",
    "# Display classification report\n",
    "class_report = classification_report(y_test, y_pred)\n",
    "print('Classification Report:')\n",
    "print(class_report)"
   ]
  },
  {
   "cell_type": "code",
   "execution_count": 290,
   "id": "7c81a3c3",
   "metadata": {},
   "outputs": [],
   "source": [
    "clicks = parse_clicks(val)"
   ]
  },
  {
   "cell_type": "code",
   "execution_count": 503,
   "id": "1d9e93b9",
   "metadata": {},
   "outputs": [
    {
     "data": {
      "text/html": [
       "<div>\n",
       "<style scoped>\n",
       "    .dataframe tbody tr th:only-of-type {\n",
       "        vertical-align: middle;\n",
       "    }\n",
       "\n",
       "    .dataframe tbody tr th {\n",
       "        vertical-align: top;\n",
       "    }\n",
       "\n",
       "    .dataframe thead th {\n",
       "        text-align: right;\n",
       "    }\n",
       "</style>\n",
       "<table border=\"1\" class=\"dataframe\">\n",
       "  <thead>\n",
       "    <tr style=\"text-align: right;\">\n",
       "      <th></th>\n",
       "      <th>user</th>\n",
       "      <th>0</th>\n",
       "      <th>target</th>\n",
       "    </tr>\n",
       "  </thead>\n",
       "  <tbody>\n",
       "    <tr>\n",
       "      <th>5810</th>\n",
       "      <td>user_139253</td>\n",
       "      <td>0.802611</td>\n",
       "      <td>female</td>\n",
       "    </tr>\n",
       "  </tbody>\n",
       "</table>\n",
       "</div>"
      ],
      "text/plain": [
       "             user         0  target\n",
       "5810  user_139253  0.802611  female"
      ]
     },
     "execution_count": 503,
     "metadata": {},
     "output_type": "execute_result"
    }
   ],
   "source": [
    "replaced_clicks_df = replace_site_id(clicks)\n",
    "replaced_clicks_df.sample()"
   ]
  },
  {
   "cell_type": "code",
   "execution_count": 504,
   "id": "8faebbdc",
   "metadata": {},
   "outputs": [
    {
     "name": "stdout",
     "output_type": "stream",
     "text": [
      "Accuracy: 0.67\n",
      "Confusion Matrix:\n",
      "[[1151  428]\n",
      " [ 524  778]]\n",
      "Classification Report:\n",
      "              precision    recall  f1-score   support\n",
      "\n",
      "      female       0.69      0.73      0.71      1579\n",
      "        male       0.65      0.60      0.62      1302\n",
      "\n",
      "    accuracy                           0.67      2881\n",
      "   macro avg       0.67      0.66      0.66      2881\n",
      "weighted avg       0.67      0.67      0.67      2881\n",
      "\n"
     ]
    }
   ],
   "source": [
    "import pandas as pd\n",
    "from sklearn.model_selection import train_test_split\n",
    "from sklearn.linear_model import LogisticRegression\n",
    "from sklearn.metrics import accuracy_score, classification_report, confusion_matrix\n",
    "\n",
    "X = replaced_clicks_df[[0]]\n",
    "y = replaced_clicks_df['target']\n",
    "\n",
    "X_train, X_test, y_train, y_test = train_test_split(X, y, test_size=0.2, random_state=42)\n",
    "\n",
    "model = LogisticRegression()\n",
    "\n",
    "model.fit(X_train, y_train)\n",
    "\n",
    "y_pred = model.predict(X_test)\n",
    "\n",
    "# Calculate accuracy\n",
    "accuracy = accuracy_score(y_test, y_pred)\n",
    "print(f'Accuracy: {accuracy:.2f}')\n",
    "\n",
    "# Display confusion matrix\n",
    "conf_matrix = confusion_matrix(y_test, y_pred)\n",
    "print('Confusion Matrix:')\n",
    "print(conf_matrix)\n",
    "\n",
    "# Display classification report\n",
    "class_report = classification_report(y_test, y_pred)\n",
    "print('Classification Report:')\n",
    "print(class_report)"
   ]
  },
  {
   "cell_type": "code",
   "execution_count": 313,
   "id": "fc7d92c7",
   "metadata": {},
   "outputs": [
    {
     "data": {
      "text/html": [
       "<div>\n",
       "<style scoped>\n",
       "    .dataframe tbody tr th:only-of-type {\n",
       "        vertical-align: middle;\n",
       "    }\n",
       "\n",
       "    .dataframe tbody tr th {\n",
       "        vertical-align: top;\n",
       "    }\n",
       "\n",
       "    .dataframe thead th {\n",
       "        text-align: right;\n",
       "    }\n",
       "</style>\n",
       "<table border=\"1\" class=\"dataframe\">\n",
       "  <thead>\n",
       "    <tr style=\"text-align: right;\">\n",
       "      <th></th>\n",
       "      <th>0</th>\n",
       "      <th>user</th>\n",
       "      <th>target</th>\n",
       "    </tr>\n",
       "  </thead>\n",
       "  <tbody>\n",
       "    <tr>\n",
       "      <th>17165</th>\n",
       "      <td>194.0</td>\n",
       "      <td>user_127876</td>\n",
       "      <td>male</td>\n",
       "    </tr>\n",
       "  </tbody>\n",
       "</table>\n",
       "</div>"
      ],
      "text/plain": [
       "           0         user target\n",
       "17165  194.0  user_127876   male"
      ]
     },
     "execution_count": 313,
     "metadata": {},
     "output_type": "execute_result"
    }
   ],
   "source": [
    "accepted_n_clicks = parse_accepted_n_clicks(val)\n",
    "accepted_n_clicks.sample()"
   ]
  },
  {
   "cell_type": "code",
   "execution_count": 505,
   "id": "2b3ab7e2",
   "metadata": {},
   "outputs": [
    {
     "data": {
      "text/html": [
       "<div>\n",
       "<style scoped>\n",
       "    .dataframe tbody tr th:only-of-type {\n",
       "        vertical-align: middle;\n",
       "    }\n",
       "\n",
       "    .dataframe tbody tr th {\n",
       "        vertical-align: top;\n",
       "    }\n",
       "\n",
       "    .dataframe thead th {\n",
       "        text-align: right;\n",
       "    }\n",
       "</style>\n",
       "<table border=\"1\" class=\"dataframe\">\n",
       "  <thead>\n",
       "    <tr style=\"text-align: right;\">\n",
       "      <th></th>\n",
       "      <th>user</th>\n",
       "      <th>0</th>\n",
       "      <th>target</th>\n",
       "    </tr>\n",
       "  </thead>\n",
       "  <tbody>\n",
       "    <tr>\n",
       "      <th>11488</th>\n",
       "      <td>user_148642</td>\n",
       "      <td>0.772177</td>\n",
       "      <td>female</td>\n",
       "    </tr>\n",
       "  </tbody>\n",
       "</table>\n",
       "</div>"
      ],
      "text/plain": [
       "              user         0  target\n",
       "11488  user_148642  0.772177  female"
      ]
     },
     "execution_count": 505,
     "metadata": {},
     "output_type": "execute_result"
    }
   ],
   "source": [
    "replaced_accepted_n_clicks_df = replace_site_id(accepted_n_clicks)\n",
    "replaced_accepted_n_clicks_df.sample()"
   ]
  },
  {
   "cell_type": "code",
   "execution_count": 506,
   "id": "a1fb5dfa",
   "metadata": {},
   "outputs": [
    {
     "name": "stdout",
     "output_type": "stream",
     "text": [
      "Accuracy: 0.62\n",
      "Confusion Matrix:\n",
      "[[1170  393]\n",
      " [ 703  656]]\n",
      "Classification Report:\n",
      "              precision    recall  f1-score   support\n",
      "\n",
      "      female       0.62      0.75      0.68      1563\n",
      "        male       0.63      0.48      0.54      1359\n",
      "\n",
      "    accuracy                           0.62      2922\n",
      "   macro avg       0.63      0.62      0.61      2922\n",
      "weighted avg       0.62      0.62      0.62      2922\n",
      "\n"
     ]
    }
   ],
   "source": [
    "import pandas as pd\n",
    "from sklearn.model_selection import train_test_split\n",
    "from sklearn.linear_model import LogisticRegression\n",
    "from sklearn.metrics import accuracy_score, classification_report, confusion_matrix\n",
    "\n",
    "X = replaced_accepted_n_clicks_df[[0]]\n",
    "y = replaced_accepted_n_clicks_df['target']\n",
    "\n",
    "X_train, X_test, y_train, y_test = train_test_split(X, y, test_size=0.2, random_state=42)\n",
    "\n",
    "model = LogisticRegression()\n",
    "\n",
    "model.fit(X_train, y_train)\n",
    "\n",
    "y_pred = model.predict(X_test)\n",
    "\n",
    "# Calculate accuracy\n",
    "accuracy = accuracy_score(y_test, y_pred)\n",
    "print(f'Accuracy: {accuracy:.2f}')\n",
    "\n",
    "# Display confusion matrix\n",
    "conf_matrix = confusion_matrix(y_test, y_pred)\n",
    "print('Confusion Matrix:')\n",
    "print(conf_matrix)\n",
    "\n",
    "# Display classification report\n",
    "class_report = classification_report(y_test, y_pred)\n",
    "print('Classification Report:')\n",
    "print(class_report)"
   ]
  },
  {
   "cell_type": "code",
   "execution_count": 322,
   "id": "c90934e6",
   "metadata": {},
   "outputs": [
    {
     "data": {
      "text/html": [
       "<div>\n",
       "<style scoped>\n",
       "    .dataframe tbody tr th:only-of-type {\n",
       "        vertical-align: middle;\n",
       "    }\n",
       "\n",
       "    .dataframe tbody tr th {\n",
       "        vertical-align: top;\n",
       "    }\n",
       "\n",
       "    .dataframe thead th {\n",
       "        text-align: right;\n",
       "    }\n",
       "</style>\n",
       "<table border=\"1\" class=\"dataframe\">\n",
       "  <thead>\n",
       "    <tr style=\"text-align: right;\">\n",
       "      <th></th>\n",
       "      <th>0</th>\n",
       "      <th>user</th>\n",
       "      <th>target</th>\n",
       "    </tr>\n",
       "  </thead>\n",
       "  <tbody>\n",
       "    <tr>\n",
       "      <th>0</th>\n",
       "      <td>other</td>\n",
       "      <td>user_127756</td>\n",
       "      <td>female</td>\n",
       "    </tr>\n",
       "  </tbody>\n",
       "</table>\n",
       "</div>"
      ],
      "text/plain": [
       "       0         user  target\n",
       "0  other  user_127756  female"
      ]
     },
     "execution_count": 322,
     "metadata": {},
     "output_type": "execute_result"
    }
   ],
   "source": [
    "category_df = parse_category(val)\n",
    "category_df.head(1)"
   ]
  },
  {
   "cell_type": "code",
   "execution_count": 439,
   "id": "1070c669",
   "metadata": {},
   "outputs": [
    {
     "data": {
      "text/html": [
       "<div>\n",
       "<style scoped>\n",
       "    .dataframe tbody tr th:only-of-type {\n",
       "        vertical-align: middle;\n",
       "    }\n",
       "\n",
       "    .dataframe tbody tr th {\n",
       "        vertical-align: top;\n",
       "    }\n",
       "\n",
       "    .dataframe thead th {\n",
       "        text-align: right;\n",
       "    }\n",
       "</style>\n",
       "<table border=\"1\" class=\"dataframe\">\n",
       "  <thead>\n",
       "    <tr style=\"text-align: right;\">\n",
       "      <th></th>\n",
       "      <th>user</th>\n",
       "      <th>0</th>\n",
       "      <th>target</th>\n",
       "    </tr>\n",
       "  </thead>\n",
       "  <tbody>\n",
       "    <tr>\n",
       "      <th>12055</th>\n",
       "      <td>user_139954</td>\n",
       "      <td>0.502892</td>\n",
       "      <td>female</td>\n",
       "    </tr>\n",
       "  </tbody>\n",
       "</table>\n",
       "</div>"
      ],
      "text/plain": [
       "              user         0  target\n",
       "12055  user_139954  0.502892  female"
      ]
     },
     "execution_count": 439,
     "metadata": {},
     "output_type": "execute_result"
    }
   ],
   "source": [
    "replaced_category_df = replace_site_id(category_df)\n",
    "replaced_category_df.sample()"
   ]
  },
  {
   "cell_type": "code",
   "execution_count": 440,
   "id": "343ef38c",
   "metadata": {},
   "outputs": [
    {
     "name": "stdout",
     "output_type": "stream",
     "text": [
      "Accuracy: 0.61\n",
      "Confusion Matrix:\n",
      "[[1597 1109]\n",
      " [1000 1709]]\n",
      "Classification Report:\n",
      "              precision    recall  f1-score   support\n",
      "\n",
      "      female       0.61      0.59      0.60      2706\n",
      "        male       0.61      0.63      0.62      2709\n",
      "\n",
      "    accuracy                           0.61      5415\n",
      "   macro avg       0.61      0.61      0.61      5415\n",
      "weighted avg       0.61      0.61      0.61      5415\n",
      "\n"
     ]
    }
   ],
   "source": [
    "import pandas as pd\n",
    "from sklearn.model_selection import train_test_split\n",
    "from sklearn.linear_model import LogisticRegression\n",
    "from sklearn.metrics import accuracy_score, classification_report, confusion_matrix\n",
    "\n",
    "X = replaced_category_df[[0]]\n",
    "y = replaced_category_df['target']\n",
    "\n",
    "X_train, X_test, y_train, y_test = train_test_split(X, y, test_size=0.2, random_state=42)\n",
    "\n",
    "model = LogisticRegression()\n",
    "\n",
    "model.fit(X_train, y_train)\n",
    "\n",
    "y_pred = model.predict(X_test)\n",
    "\n",
    "# Calculate accuracy\n",
    "accuracy = accuracy_score(y_test, y_pred)\n",
    "print(f'Accuracy: {accuracy:.2f}')\n",
    "\n",
    "# Display confusion matrix\n",
    "conf_matrix = confusion_matrix(y_test, y_pred)\n",
    "print('Confusion Matrix:')\n",
    "print(conf_matrix)\n",
    "\n",
    "# Display classification report\n",
    "class_report = classification_report(y_test, y_pred)\n",
    "print('Classification Report:')\n",
    "print(class_report)"
   ]
  },
  {
   "cell_type": "code",
   "execution_count": 441,
   "id": "45cccec6",
   "metadata": {},
   "outputs": [],
   "source": [
    "replaced_meta_df.rename(columns={0:'meta_site_id'}, inplace=True)\n",
    "replaced_clicks_df.rename(columns={0:'clicks_site_id'}, inplace=True)\n",
    "replaced_accepted_df.rename(columns={0:'accepted_site_id'}, inplace=True)\n",
    "replaced_category_df.rename(columns={0:'category'}, inplace=True)"
   ]
  },
  {
   "cell_type": "code",
   "execution_count": 466,
   "id": "5fde1c90",
   "metadata": {},
   "outputs": [],
   "source": [
    "merged_df = replaced_meta_df.merge(replaced_clicks_df[['user', 'clicks_site_id']], on='user', how='left')"
   ]
  },
  {
   "cell_type": "code",
   "execution_count": 467,
   "id": "7b4f085c",
   "metadata": {},
   "outputs": [],
   "source": [
    "merged_df = merged_df.merge(replaced_accepted_df[['user', 'accepted_site_id']], on='user', how='left')"
   ]
  },
  {
   "cell_type": "code",
   "execution_count": 468,
   "id": "151f7757",
   "metadata": {},
   "outputs": [],
   "source": [
    "merged_df = merged_df.merge(replaced_category_df[['user', 'category']], on='user', how='left')"
   ]
  },
  {
   "cell_type": "code",
   "execution_count": 469,
   "id": "8cb456c9",
   "metadata": {},
   "outputs": [
    {
     "data": {
      "text/html": [
       "<div>\n",
       "<style scoped>\n",
       "    .dataframe tbody tr th:only-of-type {\n",
       "        vertical-align: middle;\n",
       "    }\n",
       "\n",
       "    .dataframe tbody tr th {\n",
       "        vertical-align: top;\n",
       "    }\n",
       "\n",
       "    .dataframe thead th {\n",
       "        text-align: right;\n",
       "    }\n",
       "</style>\n",
       "<table border=\"1\" class=\"dataframe\">\n",
       "  <thead>\n",
       "    <tr style=\"text-align: right;\">\n",
       "      <th></th>\n",
       "      <th>user</th>\n",
       "      <th>meta_site_id</th>\n",
       "      <th>target</th>\n",
       "      <th>clicks_site_id</th>\n",
       "      <th>accepted_site_id</th>\n",
       "      <th>category</th>\n",
       "    </tr>\n",
       "  </thead>\n",
       "  <tbody>\n",
       "    <tr>\n",
       "      <th>17887</th>\n",
       "      <td>user_145643</td>\n",
       "      <td>0.527583</td>\n",
       "      <td>male</td>\n",
       "      <td>NaN</td>\n",
       "      <td>NaN</td>\n",
       "      <td>0.533796</td>\n",
       "    </tr>\n",
       "  </tbody>\n",
       "</table>\n",
       "</div>"
      ],
      "text/plain": [
       "              user  meta_site_id target  clicks_site_id  accepted_site_id  \\\n",
       "17887  user_145643      0.527583   male             NaN               NaN   \n",
       "\n",
       "       category  \n",
       "17887  0.533796  "
      ]
     },
     "execution_count": 469,
     "metadata": {},
     "output_type": "execute_result"
    }
   ],
   "source": [
    "merged_df.sample()"
   ]
  },
  {
   "cell_type": "code",
   "execution_count": 470,
   "id": "9d5d3679",
   "metadata": {},
   "outputs": [],
   "source": [
    "merged_df_dropna = merged_df.dropna()"
   ]
  },
  {
   "cell_type": "code",
   "execution_count": 471,
   "id": "3c409b65",
   "metadata": {},
   "outputs": [],
   "source": [
    "merged_df_fillna = merged_df.fillna(0.5)"
   ]
  },
  {
   "cell_type": "code",
   "execution_count": 472,
   "id": "a25c2648",
   "metadata": {},
   "outputs": [
    {
     "name": "stdout",
     "output_type": "stream",
     "text": [
      "Accuracy: 0.83\n",
      "Confusion Matrix:\n",
      "[[1254  225]\n",
      " [ 228 1009]]\n",
      "Classification Report:\n",
      "              precision    recall  f1-score   support\n",
      "\n",
      "      female       0.85      0.85      0.85      1479\n",
      "        male       0.82      0.82      0.82      1237\n",
      "\n",
      "    accuracy                           0.83      2716\n",
      "   macro avg       0.83      0.83      0.83      2716\n",
      "weighted avg       0.83      0.83      0.83      2716\n",
      "\n"
     ]
    }
   ],
   "source": [
    "import pandas as pd\n",
    "from sklearn.model_selection import train_test_split\n",
    "from sklearn.linear_model import LogisticRegression\n",
    "from sklearn.metrics import accuracy_score, classification_report, confusion_matrix\n",
    "\n",
    "X = merged_df_dropna.drop(columns=['user', 'target'])\n",
    "y = merged_df_dropna['target']\n",
    "\n",
    "X_train, X_test, y_train, y_test = train_test_split(X, y, test_size=0.2, random_state=42)\n",
    "\n",
    "model = LogisticRegression()\n",
    "\n",
    "model.fit(X_train, y_train)\n",
    "\n",
    "y_pred = model.predict(X_test)\n",
    "\n",
    "# Calculate accuracy\n",
    "accuracy = accuracy_score(y_test, y_pred)\n",
    "print(f'Accuracy: {accuracy:.2f}')\n",
    "\n",
    "# Display confusion matrix\n",
    "conf_matrix = confusion_matrix(y_test, y_pred)\n",
    "print('Confusion Matrix:')\n",
    "print(conf_matrix)\n",
    "\n",
    "# Display classification report\n",
    "class_report = classification_report(y_test, y_pred)\n",
    "print('Classification Report:')\n",
    "print(class_report)"
   ]
  },
  {
   "cell_type": "code",
   "execution_count": 473,
   "id": "6ad42da5",
   "metadata": {},
   "outputs": [
    {
     "name": "stdout",
     "output_type": "stream",
     "text": [
      "Accuracy: 0.80\n",
      "Confusion Matrix:\n",
      "[[2227  555]\n",
      " [ 547 2161]]\n",
      "Classification Report:\n",
      "              precision    recall  f1-score   support\n",
      "\n",
      "      female       0.80      0.80      0.80      2782\n",
      "        male       0.80      0.80      0.80      2708\n",
      "\n",
      "    accuracy                           0.80      5490\n",
      "   macro avg       0.80      0.80      0.80      5490\n",
      "weighted avg       0.80      0.80      0.80      5490\n",
      "\n"
     ]
    }
   ],
   "source": [
    "import pandas as pd\n",
    "from sklearn.model_selection import train_test_split\n",
    "from sklearn.linear_model import LogisticRegression\n",
    "from sklearn.metrics import accuracy_score, classification_report, confusion_matrix\n",
    "\n",
    "X = merged_df_fillna.drop(columns=['user', 'target'])\n",
    "y = merged_df_fillna['target']\n",
    "\n",
    "X_train, X_test, y_train, y_test = train_test_split(X, y, test_size=0.2, random_state=42)\n",
    "\n",
    "model = LogisticRegression()\n",
    "\n",
    "model.fit(X_train, y_train)\n",
    "\n",
    "y_pred = model.predict(X_test)\n",
    "\n",
    "# Calculate accuracy\n",
    "accuracy = accuracy_score(y_test, y_pred)\n",
    "print(f'Accuracy: {accuracy:.2f}')\n",
    "\n",
    "# Display confusion matrix\n",
    "conf_matrix = confusion_matrix(y_test, y_pred)\n",
    "print('Confusion Matrix:')\n",
    "print(conf_matrix)\n",
    "\n",
    "# Display classification report\n",
    "class_report = classification_report(y_test, y_pred)\n",
    "print('Classification Report:')\n",
    "print(class_report)"
   ]
  },
  {
   "cell_type": "code",
   "execution_count": 73,
   "id": "cde0dc84",
   "metadata": {},
   "outputs": [],
   "source": [
    "replaced_meta_df.rename(columns={0:'meta_site_id'}, inplace=True)\n",
    "merged_df_ = replaced_meta_df.merge(visited_universal_brands[['user', 'visited-universal-brands']], on='user', how='left')\n",
    "# merged_df_ = replaced_meta_df.merge(visited_general_categories[['user', 'visited-general-categories']], on='user', how='left') - неудачный, метрика не растет\n",
    "# visits_pages_count и visits_session_duration аналогично"
   ]
  },
  {
   "cell_type": "code",
   "execution_count": 74,
   "id": "aef2be63",
   "metadata": {},
   "outputs": [
    {
     "data": {
      "text/plain": [
       "user            0.000000\n",
       "meta_site_id    0.000000\n",
       "target          0.000000\n",
       "pages-count     0.014646\n",
       "dtype: float64"
      ]
     },
     "execution_count": 74,
     "metadata": {},
     "output_type": "execute_result"
    }
   ],
   "source": [
    "merged_df_.isna().mean()"
   ]
  },
  {
   "cell_type": "code",
   "execution_count": 75,
   "id": "cfbc0d60",
   "metadata": {},
   "outputs": [
    {
     "name": "stdout",
     "output_type": "stream",
     "text": [
      "Accuracy: 0.80\n",
      "Confusion Matrix:\n",
      "[[2219  563]\n",
      " [ 556 2152]]\n",
      "Classification Report:\n",
      "              precision    recall  f1-score   support\n",
      "\n",
      "      female       0.80      0.80      0.80      2782\n",
      "        male       0.79      0.79      0.79      2708\n",
      "\n",
      "    accuracy                           0.80      5490\n",
      "   macro avg       0.80      0.80      0.80      5490\n",
      "weighted avg       0.80      0.80      0.80      5490\n",
      "\n"
     ]
    }
   ],
   "source": [
    "import pandas as pd\n",
    "from sklearn.model_selection import train_test_split\n",
    "from sklearn.linear_model import LogisticRegression\n",
    "from sklearn.metrics import accuracy_score, classification_report, confusion_matrix\n",
    "\n",
    "X = merged_df_.drop(columns=['user', 'target']).fillna(0.5)\n",
    "y = merged_df_['target']\n",
    "\n",
    "X_train, X_test, y_train, y_test = train_test_split(X, y, test_size=0.2, random_state=42)\n",
    "\n",
    "model = LogisticRegression()\n",
    "\n",
    "model.fit(X_train, y_train)\n",
    "\n",
    "y_pred = model.predict(X_test)\n",
    "\n",
    "# Calculate accuracy\n",
    "accuracy = accuracy_score(y_test, y_pred)\n",
    "print(f'Accuracy: {accuracy:.2f}')\n",
    "\n",
    "# Display confusion matrix\n",
    "conf_matrix = confusion_matrix(y_test, y_pred)\n",
    "print('Confusion Matrix:')\n",
    "print(conf_matrix)\n",
    "\n",
    "# Display classification report\n",
    "class_report = classification_report(y_test, y_pred)\n",
    "print('Classification Report:')\n",
    "print(class_report)"
   ]
  },
  {
   "cell_type": "code",
   "execution_count": 409,
   "id": "8e8a8bd9",
   "metadata": {},
   "outputs": [],
   "source": [
    "merged_df_fillna['target'] = merged_df_fillna['target'].map({'female': 1, 'male': 0})"
   ]
  },
  {
   "cell_type": "code",
   "execution_count": 410,
   "id": "b5ce8281",
   "metadata": {},
   "outputs": [],
   "source": [
    "X = merged_df_fillna.drop(columns=['user', 'target'])\n",
    "y = merged_df_fillna['target']"
   ]
  },
  {
   "cell_type": "code",
   "execution_count": 412,
   "id": "a7af3478",
   "metadata": {},
   "outputs": [
    {
     "name": "stdout",
     "output_type": "stream",
     "text": [
      "Epoch 1/50\n",
      "687/687 [==============================] - 1s 1ms/step - loss: 0.5656 - accuracy: 0.7127 - val_loss: 0.4677 - val_accuracy: 0.7925\n",
      "Epoch 2/50\n",
      "687/687 [==============================] - 1s 1ms/step - loss: 0.4885 - accuracy: 0.7824 - val_loss: 0.4701 - val_accuracy: 0.7922\n",
      "Epoch 3/50\n",
      "687/687 [==============================] - 1s 1ms/step - loss: 0.4787 - accuracy: 0.7902 - val_loss: 0.4585 - val_accuracy: 0.7993\n",
      "Epoch 4/50\n",
      "687/687 [==============================] - 1s 1ms/step - loss: 0.4762 - accuracy: 0.7905 - val_loss: 0.4582 - val_accuracy: 0.7985\n",
      "Epoch 5/50\n",
      "687/687 [==============================] - 1s 1ms/step - loss: 0.4741 - accuracy: 0.7908 - val_loss: 0.4564 - val_accuracy: 0.8002\n",
      "Epoch 6/50\n",
      "687/687 [==============================] - 1s 1ms/step - loss: 0.4697 - accuracy: 0.7916 - val_loss: 0.4549 - val_accuracy: 0.8002\n",
      "Epoch 7/50\n",
      "687/687 [==============================] - 1s 1ms/step - loss: 0.4715 - accuracy: 0.7911 - val_loss: 0.4613 - val_accuracy: 0.7909\n",
      "Epoch 8/50\n",
      "687/687 [==============================] - 1s 1ms/step - loss: 0.4681 - accuracy: 0.7949 - val_loss: 0.4832 - val_accuracy: 0.7738\n",
      "Epoch 9/50\n",
      "687/687 [==============================] - 1s 1ms/step - loss: 0.4694 - accuracy: 0.7929 - val_loss: 0.4528 - val_accuracy: 0.8004\n",
      "Epoch 10/50\n",
      "687/687 [==============================] - 1s 1ms/step - loss: 0.4688 - accuracy: 0.7942 - val_loss: 0.4596 - val_accuracy: 0.7913\n",
      "Epoch 11/50\n",
      "687/687 [==============================] - 1s 1ms/step - loss: 0.4677 - accuracy: 0.7933 - val_loss: 0.4536 - val_accuracy: 0.7989\n",
      "Epoch 12/50\n",
      "687/687 [==============================] - 1s 1ms/step - loss: 0.4661 - accuracy: 0.7961 - val_loss: 0.4550 - val_accuracy: 0.8007\n",
      "Epoch 13/50\n",
      "687/687 [==============================] - 1s 1ms/step - loss: 0.4654 - accuracy: 0.7967 - val_loss: 0.4524 - val_accuracy: 0.7998\n",
      "Epoch 14/50\n",
      "687/687 [==============================] - 1s 1ms/step - loss: 0.4673 - accuracy: 0.7941 - val_loss: 0.4520 - val_accuracy: 0.7995\n",
      "Epoch 15/50\n",
      "687/687 [==============================] - 1s 1ms/step - loss: 0.4673 - accuracy: 0.7940 - val_loss: 0.4507 - val_accuracy: 0.7991\n",
      "Epoch 16/50\n",
      "687/687 [==============================] - 1s 1ms/step - loss: 0.4656 - accuracy: 0.7956 - val_loss: 0.4544 - val_accuracy: 0.7984\n",
      "Epoch 17/50\n",
      "687/687 [==============================] - 1s 1ms/step - loss: 0.4653 - accuracy: 0.7973 - val_loss: 0.4530 - val_accuracy: 0.8016\n",
      "Epoch 18/50\n",
      "687/687 [==============================] - 1s 1ms/step - loss: 0.4652 - accuracy: 0.7970 - val_loss: 0.4512 - val_accuracy: 0.7991\n",
      "Epoch 19/50\n",
      "687/687 [==============================] - 1s 1ms/step - loss: 0.4649 - accuracy: 0.7962 - val_loss: 0.4518 - val_accuracy: 0.8015\n",
      "Epoch 20/50\n",
      "687/687 [==============================] - 1s 1ms/step - loss: 0.4649 - accuracy: 0.7956 - val_loss: 0.4540 - val_accuracy: 0.7982\n",
      "Epoch 21/50\n",
      "687/687 [==============================] - 1s 1ms/step - loss: 0.4640 - accuracy: 0.7989 - val_loss: 0.4525 - val_accuracy: 0.7980\n",
      "Epoch 22/50\n",
      "687/687 [==============================] - 1s 1ms/step - loss: 0.4636 - accuracy: 0.7975 - val_loss: 0.4629 - val_accuracy: 0.7965\n",
      "Epoch 23/50\n",
      "687/687 [==============================] - 1s 1ms/step - loss: 0.4644 - accuracy: 0.7962 - val_loss: 0.4547 - val_accuracy: 0.7991\n",
      "Epoch 24/50\n",
      "687/687 [==============================] - 1s 1ms/step - loss: 0.4652 - accuracy: 0.7946 - val_loss: 0.4525 - val_accuracy: 0.7989\n",
      "Epoch 25/50\n",
      "687/687 [==============================] - 1s 1ms/step - loss: 0.4648 - accuracy: 0.7971 - val_loss: 0.4506 - val_accuracy: 0.8007\n",
      "Epoch 26/50\n",
      "687/687 [==============================] - 1s 1ms/step - loss: 0.4620 - accuracy: 0.7971 - val_loss: 0.4630 - val_accuracy: 0.7849\n",
      "Epoch 27/50\n",
      "687/687 [==============================] - 1s 1ms/step - loss: 0.4622 - accuracy: 0.7971 - val_loss: 0.4532 - val_accuracy: 0.7996\n",
      "Epoch 28/50\n",
      "687/687 [==============================] - 1s 1ms/step - loss: 0.4610 - accuracy: 0.7991 - val_loss: 0.4507 - val_accuracy: 0.8020\n",
      "Epoch 29/50\n",
      "687/687 [==============================] - 1s 1ms/step - loss: 0.4639 - accuracy: 0.7967 - val_loss: 0.4490 - val_accuracy: 0.7984\n",
      "Epoch 30/50\n",
      "687/687 [==============================] - 1s 1ms/step - loss: 0.4637 - accuracy: 0.7972 - val_loss: 0.4550 - val_accuracy: 0.8004\n",
      "Epoch 31/50\n",
      "687/687 [==============================] - 1s 1ms/step - loss: 0.4643 - accuracy: 0.7944 - val_loss: 0.4499 - val_accuracy: 0.7973\n",
      "Epoch 32/50\n",
      "687/687 [==============================] - 1s 1ms/step - loss: 0.4620 - accuracy: 0.7977 - val_loss: 0.4546 - val_accuracy: 0.7958\n",
      "Epoch 33/50\n",
      "687/687 [==============================] - 1s 1ms/step - loss: 0.4635 - accuracy: 0.7981 - val_loss: 0.4492 - val_accuracy: 0.7995\n",
      "Epoch 34/50\n",
      "687/687 [==============================] - 1s 1ms/step - loss: 0.4618 - accuracy: 0.7958 - val_loss: 0.4525 - val_accuracy: 0.7991\n",
      "Epoch 35/50\n",
      "687/687 [==============================] - 1s 1ms/step - loss: 0.4609 - accuracy: 0.7968 - val_loss: 0.4474 - val_accuracy: 0.7982\n",
      "Epoch 36/50\n",
      "687/687 [==============================] - 1s 1ms/step - loss: 0.4615 - accuracy: 0.7970 - val_loss: 0.4491 - val_accuracy: 0.8024\n",
      "Epoch 37/50\n",
      "687/687 [==============================] - 1s 1ms/step - loss: 0.4605 - accuracy: 0.7993 - val_loss: 0.4499 - val_accuracy: 0.8016\n",
      "Epoch 38/50\n",
      "687/687 [==============================] - 1s 1ms/step - loss: 0.4632 - accuracy: 0.7948 - val_loss: 0.4524 - val_accuracy: 0.7985\n",
      "Epoch 39/50\n",
      "687/687 [==============================] - 1s 1ms/step - loss: 0.4617 - accuracy: 0.7981 - val_loss: 0.4496 - val_accuracy: 0.8018\n",
      "Epoch 40/50\n",
      "687/687 [==============================] - 1s 1ms/step - loss: 0.4622 - accuracy: 0.7957 - val_loss: 0.4476 - val_accuracy: 0.7995\n",
      "Epoch 41/50\n",
      "687/687 [==============================] - 1s 1ms/step - loss: 0.4607 - accuracy: 0.7962 - val_loss: 0.4505 - val_accuracy: 0.8015\n",
      "Epoch 42/50\n",
      "687/687 [==============================] - 1s 1ms/step - loss: 0.4598 - accuracy: 0.7978 - val_loss: 0.4518 - val_accuracy: 0.8015\n",
      "Epoch 43/50\n",
      "687/687 [==============================] - 1s 1ms/step - loss: 0.4607 - accuracy: 0.7963 - val_loss: 0.4509 - val_accuracy: 0.7993\n",
      "Epoch 44/50\n",
      "687/687 [==============================] - 1s 1ms/step - loss: 0.4614 - accuracy: 0.7992 - val_loss: 0.4523 - val_accuracy: 0.7953\n",
      "Epoch 45/50\n",
      "687/687 [==============================] - 1s 1ms/step - loss: 0.4609 - accuracy: 0.7967 - val_loss: 0.4475 - val_accuracy: 0.7995\n",
      "Epoch 46/50\n",
      "687/687 [==============================] - 1s 1ms/step - loss: 0.4609 - accuracy: 0.7970 - val_loss: 0.4493 - val_accuracy: 0.7989\n",
      "Epoch 47/50\n",
      "687/687 [==============================] - 1s 1ms/step - loss: 0.4615 - accuracy: 0.7972 - val_loss: 0.4492 - val_accuracy: 0.8026\n",
      "Epoch 48/50\n",
      "687/687 [==============================] - 1s 1ms/step - loss: 0.4599 - accuracy: 0.7981 - val_loss: 0.4503 - val_accuracy: 0.8024\n",
      "Epoch 49/50\n",
      "687/687 [==============================] - 1s 1ms/step - loss: 0.4609 - accuracy: 0.7965 - val_loss: 0.4496 - val_accuracy: 0.7991\n",
      "Epoch 50/50\n",
      "687/687 [==============================] - 1s 1ms/step - loss: 0.4594 - accuracy: 0.7983 - val_loss: 0.4469 - val_accuracy: 0.7980\n",
      "172/172 [==============================] - 0s 626us/step\n",
      "Точность модели: 0.7979963570127504\n"
     ]
    }
   ],
   "source": [
    "# import tensorflow as tf\n",
    "# from sklearn.model_selection import train_test_split\n",
    "# from sklearn.metrics import accuracy_score\n",
    "# import pandas as pd\n",
    "# from sklearn.impute import SimpleImputer\n",
    "\n",
    "\n",
    "# X_train, X_test, y_train, y_test = train_test_split(X, y, test_size=0.2, random_state=42)\n",
    "\n",
    "# # Создание модели нейронной сети\n",
    "# model = tf.keras.Sequential([\n",
    "#     tf.keras.layers.Dense(128, activation='relu', input_shape=(X_train.shape[1],)),\n",
    "#     tf.keras.layers.Dropout(0.5),\n",
    "#     tf.keras.layers.Dense(64, activation='relu'),\n",
    "#     tf.keras.layers.Dense(1, activation='sigmoid')\n",
    "# ])\n",
    "\n",
    "\n",
    "# # Компиляция модели\n",
    "# model.compile(optimizer='adam', loss='binary_crossentropy', metrics=['accuracy'])\n",
    "\n",
    "# # Обучение модели\n",
    "# model.fit(X_train, y_train, epochs=50, batch_size=32, validation_data=(X_test, y_test))\n",
    "\n",
    "# # Оценка модели на тестовом наборе\n",
    "# y_pred_prob = model.predict(X_test)\n",
    "# y_pred = (y_pred_prob > 0.5).astype(int)\n",
    "\n",
    "# # Оценка точности\n",
    "# accuracy = accuracy_score(y_test, y_pred)\n",
    "# print(f'Точность модели: {accuracy}')\n"
   ]
  }
 ],
 "metadata": {
  "kernelspec": {
   "display_name": "Python 3 (ipykernel)",
   "language": "python",
   "name": "python3"
  },
  "language_info": {
   "codemirror_mode": {
    "name": "ipython",
    "version": 3
   },
   "file_extension": ".py",
   "mimetype": "text/x-python",
   "name": "python",
   "nbconvert_exporter": "python",
   "pygments_lexer": "ipython3",
   "version": "3.11.5"
  }
 },
 "nbformat": 4,
 "nbformat_minor": 5
}
