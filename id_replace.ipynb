{
 "cells": [
  {
   "cell_type": "code",
   "execution_count": 2,
   "id": "8d3f939f",
   "metadata": {},
   "outputs": [],
   "source": [
    "import json\n",
    "import pandas as pd\n",
    "from tqdm import tqdm\n",
    "\n",
    "\n",
    "def read_json(data_path, dataset_type):\n",
    "    with open(data_path+f\"{dataset_type}.json\", \"rb\") as f:\n",
    "        json_object = json.load(f)\n",
    "\n",
    "    return json_object\n",
    "\n",
    "\n",
    "def parse_visits(json_object):\n",
    "    # parse json\n",
    "    df = pd.DataFrame()\n",
    "    for j in range(len(list(json_object.keys()))):\n",
    "        key = list(json_object.keys())[j]\n",
    "        dfl1 = pd.DataFrame()\n",
    "        if \"visits\" in json_object[key][\"features\"]:\n",
    "            for i in range(len(json_object[key][\"features\"][\"visits\"])):\n",
    "                n = len(pd.json_normalize(json_object[key][\"features\"][\"visits\"][i][\"visits\"]))\n",
    "                dfl2 = pd.concat([\n",
    "                        pd.concat(\n",
    "                            [pd.json_normalize(json_object[key][\"features\"][\"visits\"][i])] * n, \n",
    "                            ignore_index=True\n",
    "                        )[[\"site-id\", \"first-seen\", \"last-seen\"]],\n",
    "                        pd.json_normalize(json_object[key][\"features\"][\"visits\"][i][\"visits\"])\n",
    "                    ], axis=1)\n",
    "                dfl1 = pd.concat([dfl1, dfl2]).reset_index(drop=True)\n",
    "        dfl1[\"user\"] = [key] * len(dfl1)\n",
    "        if \"target\" in json_object[key].keys():\n",
    "            dfl1[\"target\"] = json_object[key][\"target\"]\n",
    "        df = pd.concat([df, dfl1]).reset_index(drop=True)\n",
    "\n",
    "    df = df.explode(\"visited-items\", ignore_index=True)\n",
    "    df = df.explode(\"visited-general-categories\", ignore_index=True)\n",
    "    df = df.explode(\"visited-universal-brands\", ignore_index=True)\n",
    "    \n",
    "    return df \n",
    "\n",
    "def iterate_json(json_object, chunk_size):\n",
    "    items = list(json_object.items())\n",
    "    for i in range(0, len(items), chunk_size):\n",
    "        yield {k:v for k,v in items[i:i+chunk_size]}\n",
    "\n",
    "#timing\n",
    "def get_visits_dataset(data_path, chunk_size, dataset_type=\"train\"):\n",
    "    # read as json\n",
    "    json_object = read_json(data_path, dataset_type)\n",
    "    # json_object = dict(list(json_object.items())[:50])\n",
    "\n",
    "    for idx, chunk in enumerate(iterate_json(json_object, chunk_size)):\n",
    "        # get chunk idx\n",
    "        chunk_users = sorted([int(x[5:]) for x in list(chunk.keys())])\n",
    "        chunk_users = f\"{chunk_users[0]}_{chunk_users[-1]}\"\n",
    "\n",
    "        df = parse_visits(chunk)\n",
    "\n",
    "        # save as parquet by chunks\n",
    "        df.to_parquet(\n",
    "            data_path+f\"{dataset_type}/{idx}_{chunk_users}_{dataset_type}.parquet.gzip\",\n",
    "            compression=\"gzip\",\n",
    "            index=False\n",
    "        )"
   ]
  },
  {
   "cell_type": "code",
   "execution_count": 3,
   "id": "096568b9",
   "metadata": {},
   "outputs": [],
   "source": [
    "# Функция собирает все [\"site-meta\"]['site-id']\n",
    "\n",
    "def parse_site_meta_ids(json_object):\n",
    "\n",
    "    # Создаем пустой df\n",
    "    df = pd.DataFrame()\n",
    "    # Проходим по ключам словаря (users)\n",
    "    for j in range(len(list(json_object.keys()))):\n",
    "        key = list(json_object.keys())[j]\n",
    "        # Создаем пустой df для итерации по юзерам\n",
    "        dfl1 = pd.DataFrame()\n",
    "        if \"site-meta\" in json_object[key][\"features\"]:\n",
    "            dfl2 = pd.json_normalize(json_object[key][\"features\"][\"site-meta\"])['site-id']\n",
    "            dfl1 = pd.concat([dfl1, dfl2]).reset_index(drop=True)\n",
    "        # Добавляем ключ (user)\n",
    "        dfl1[\"user\"] = [key] * len(dfl1)\n",
    "        # Добавляем пол (target)\n",
    "        if \"target\" in json_object[key].keys():\n",
    "            dfl1[\"target\"] = json_object[key][\"target\"]\n",
    "        # Пришиваем полученный df к итоговому\n",
    "        df = pd.concat([df, dfl1]).reset_index(drop=True)\n",
    "    \n",
    "    return df "
   ]
  },
  {
   "cell_type": "code",
   "execution_count": 132,
   "id": "c1414cf5",
   "metadata": {},
   "outputs": [],
   "source": [
    "# Функция собирает все [\"exchange-sessions\"]['accepted-site-id']\n",
    "\n",
    "def parse_accepted_site_ids(json_object):\n",
    "\n",
    "    # Создаем пустой df\n",
    "    df = pd.DataFrame()\n",
    "    # Проходим по ключам словаря (users)\n",
    "    for j in range(len(list(json_object.keys()))):\n",
    "        key = list(json_object.keys())[j]\n",
    "        # Создаем пустой df для итерации по юзерам\n",
    "        dfl1 = pd.DataFrame()\n",
    "        if \"exchange-sessions\" in json_object[key][\"features\"]:\n",
    "            if \"accepted-site-id\" in pd.DataFrame(json_object[key][\"features\"][\"exchange-sessions\"]).columns:\n",
    "                dfl2 = pd.json_normalize(json_object[key][\"features\"][\"exchange-sessions\"])['accepted-site-id'].dropna()\n",
    "                dfl1 = pd.concat([dfl1, dfl2]).reset_index(drop=True)\n",
    "            else:\n",
    "                continue\n",
    "        else:\n",
    "            continue\n",
    "        # Добавляем ключ (user)\n",
    "        dfl1[\"user\"] = [key] * len(dfl1)\n",
    "        # Добавляем пол (target)\n",
    "        if \"target\" in json_object[key].keys():\n",
    "            dfl1[\"target\"] = json_object[key][\"target\"]\n",
    "        # Пришиваем полученный df к итоговому\n",
    "        df = pd.concat([df, dfl1]).reset_index(drop=True)\n",
    "    \n",
    "    return df"
   ]
  },
  {
   "cell_type": "code",
   "execution_count": 16,
   "id": "5ebd8f3a",
   "metadata": {},
   "outputs": [],
   "source": [
    "# Функция замены site_id на унифицированный sex_score\n",
    "\n",
    "def replace_site_id(df):\n",
    "    # Переводим пол в бинарный признак через One-Hot Encoding\n",
    "    df_encoded = pd.get_dummies(df, columns=['target'], prefix='target')\n",
    "    # Группируем по сайту, считаем sex.score (уровень феминности) для каждого сайта\n",
    "    df_grouped = df_encoded.groupby(0).agg({'user':'count', 'target_female':'sum'}).reset_index()\n",
    "    df_grouped['target_female'] = df_grouped['target_female'] / df_grouped['user']\n",
    "    # Переводим sex.scores в словарь\n",
    "    df_grouped.set_index(0, drop=True, inplace=True)\n",
    "    sex_score_dic = df_grouped['target_female'].to_dict()\n",
    "    # Заменяем site_id на sex.score\n",
    "    df[0] = df[0].replace(sex_score_dic)\n",
    "    df = df.groupby('user').agg({0: 'mean', 'target': 'last'}).reset_index()\n",
    "    return df"
   ]
  },
  {
   "cell_type": "code",
   "execution_count": 140,
   "id": "75c357bd",
   "metadata": {},
   "outputs": [],
   "source": [
    "data_path = \"flocktory/data/\"\n",
    "dataset_type = \"val\"\n",
    "data = read_json(data_path, dataset_type)"
   ]
  },
  {
   "cell_type": "code",
   "execution_count": 141,
   "id": "f11e88b2",
   "metadata": {},
   "outputs": [],
   "source": [
    "meta_ids = parse_site_meta_ids(data)"
   ]
  },
  {
   "cell_type": "code",
   "execution_count": 142,
   "id": "f4927f2e",
   "metadata": {},
   "outputs": [],
   "source": [
    "replaced_meta_df = replace_site_id(meta_ids)\n",
    "replaced_meta_df.rename(columns={0:'meta_site_id'}, inplace=True)"
   ]
  },
  {
   "cell_type": "code",
   "execution_count": 155,
   "id": "6de4ef9a",
   "metadata": {},
   "outputs": [
    {
     "data": {
      "text/html": [
       "<div>\n",
       "<style scoped>\n",
       "    .dataframe tbody tr th:only-of-type {\n",
       "        vertical-align: middle;\n",
       "    }\n",
       "\n",
       "    .dataframe tbody tr th {\n",
       "        vertical-align: top;\n",
       "    }\n",
       "\n",
       "    .dataframe thead th {\n",
       "        text-align: right;\n",
       "    }\n",
       "</style>\n",
       "<table border=\"1\" class=\"dataframe\">\n",
       "  <thead>\n",
       "    <tr style=\"text-align: right;\">\n",
       "      <th></th>\n",
       "      <th>user</th>\n",
       "      <th>meta_site_id</th>\n",
       "      <th>target</th>\n",
       "    </tr>\n",
       "  </thead>\n",
       "  <tbody>\n",
       "    <tr>\n",
       "      <th>1381</th>\n",
       "      <td>user_129137</td>\n",
       "      <td>0.505464</td>\n",
       "      <td>male</td>\n",
       "    </tr>\n",
       "  </tbody>\n",
       "</table>\n",
       "</div>"
      ],
      "text/plain": [
       "             user  meta_site_id target\n",
       "1381  user_129137      0.505464   male"
      ]
     },
     "execution_count": 155,
     "metadata": {},
     "output_type": "execute_result"
    }
   ],
   "source": [
    "replaced_meta_df.sample()"
   ]
  },
  {
   "cell_type": "code",
   "execution_count": 156,
   "id": "0f29c279",
   "metadata": {},
   "outputs": [
    {
     "name": "stdout",
     "output_type": "stream",
     "text": [
      "Accuracy: 0.80\n",
      "Confusion Matrix:\n",
      "[[2216  566]\n",
      " [ 557 2151]]\n",
      "Classification Report:\n",
      "              precision    recall  f1-score   support\n",
      "\n",
      "      female       0.80      0.80      0.80      2782\n",
      "        male       0.79      0.79      0.79      2708\n",
      "\n",
      "    accuracy                           0.80      5490\n",
      "   macro avg       0.80      0.80      0.80      5490\n",
      "weighted avg       0.80      0.80      0.80      5490\n",
      "\n"
     ]
    }
   ],
   "source": [
    "import pandas as pd\n",
    "from sklearn.model_selection import train_test_split\n",
    "from sklearn.linear_model import LogisticRegression\n",
    "from sklearn.metrics import accuracy_score, classification_report, confusion_matrix\n",
    "\n",
    "X = replaced_meta_df[['meta_site_id']]\n",
    "y = replaced_meta_df['target']\n",
    "\n",
    "X_train, X_test, y_train, y_test = train_test_split(X, y, test_size=0.2, random_state=42)\n",
    "\n",
    "model = LogisticRegression()\n",
    "\n",
    "model.fit(X_train, y_train)\n",
    "\n",
    "y_pred = model.predict(X_test)\n",
    "\n",
    "# Calculate accuracy\n",
    "accuracy = accuracy_score(y_test, y_pred)\n",
    "print(f'Accuracy: {accuracy:.2f}')\n",
    "\n",
    "# Display confusion matrix\n",
    "conf_matrix = confusion_matrix(y_test, y_pred)\n",
    "print('Confusion Matrix:')\n",
    "print(conf_matrix)\n",
    "\n",
    "# Display classification report\n",
    "class_report = classification_report(y_test, y_pred)\n",
    "print('Classification Report:')\n",
    "print(class_report)"
   ]
  },
  {
   "cell_type": "code",
   "execution_count": 144,
   "id": "2089e076",
   "metadata": {},
   "outputs": [],
   "source": [
    "accepted_site_ids = parse_accepted_site_ids(val)"
   ]
  },
  {
   "cell_type": "code",
   "execution_count": 145,
   "id": "defa17d3",
   "metadata": {},
   "outputs": [],
   "source": [
    "replaced_accepted_df = replace_site_id(accepted_site_ids)\n",
    "replaced_accepted_df.rename(columns={0:'accepted_site_id'}, inplace=True)"
   ]
  },
  {
   "cell_type": "code",
   "execution_count": 152,
   "id": "2081363a",
   "metadata": {},
   "outputs": [
    {
     "data": {
      "text/html": [
       "<div>\n",
       "<style scoped>\n",
       "    .dataframe tbody tr th:only-of-type {\n",
       "        vertical-align: middle;\n",
       "    }\n",
       "\n",
       "    .dataframe tbody tr th {\n",
       "        vertical-align: top;\n",
       "    }\n",
       "\n",
       "    .dataframe thead th {\n",
       "        text-align: right;\n",
       "    }\n",
       "</style>\n",
       "<table border=\"1\" class=\"dataframe\">\n",
       "  <thead>\n",
       "    <tr style=\"text-align: right;\">\n",
       "      <th></th>\n",
       "      <th>user</th>\n",
       "      <th>accepted_site_id</th>\n",
       "      <th>target</th>\n",
       "    </tr>\n",
       "  </thead>\n",
       "  <tbody>\n",
       "    <tr>\n",
       "      <th>13251</th>\n",
       "      <td>user_153737</td>\n",
       "      <td>0.698826</td>\n",
       "      <td>male</td>\n",
       "    </tr>\n",
       "  </tbody>\n",
       "</table>\n",
       "</div>"
      ],
      "text/plain": [
       "              user  accepted_site_id target\n",
       "13251  user_153737          0.698826   male"
      ]
     },
     "execution_count": 152,
     "metadata": {},
     "output_type": "execute_result"
    }
   ],
   "source": [
    "replaced_accepted_df.sample()"
   ]
  },
  {
   "cell_type": "code",
   "execution_count": 153,
   "id": "3ce9f508",
   "metadata": {},
   "outputs": [
    {
     "name": "stdout",
     "output_type": "stream",
     "text": [
      "Accuracy: 0.66\n",
      "Confusion Matrix:\n",
      "[[1120  420]\n",
      " [ 529  712]]\n",
      "Classification Report:\n",
      "              precision    recall  f1-score   support\n",
      "\n",
      "      female       0.68      0.73      0.70      1540\n",
      "        male       0.63      0.57      0.60      1241\n",
      "\n",
      "    accuracy                           0.66      2781\n",
      "   macro avg       0.65      0.65      0.65      2781\n",
      "weighted avg       0.66      0.66      0.66      2781\n",
      "\n"
     ]
    }
   ],
   "source": [
    "import pandas as pd\n",
    "from sklearn.model_selection import train_test_split\n",
    "from sklearn.linear_model import LogisticRegression\n",
    "from sklearn.metrics import accuracy_score, classification_report, confusion_matrix\n",
    "\n",
    "X = replaced_accepted_df[['accepted_site_id']]\n",
    "y = replaced_accepted_df['target']\n",
    "\n",
    "X_train, X_test, y_train, y_test = train_test_split(X, y, test_size=0.2, random_state=42)\n",
    "\n",
    "model = LogisticRegression()\n",
    "\n",
    "model.fit(X_train, y_train)\n",
    "\n",
    "y_pred = model.predict(X_test)\n",
    "\n",
    "# Calculate accuracy\n",
    "accuracy = accuracy_score(y_test, y_pred)\n",
    "print(f'Accuracy: {accuracy:.2f}')\n",
    "\n",
    "# Display confusion matrix\n",
    "conf_matrix = confusion_matrix(y_test, y_pred)\n",
    "print('Confusion Matrix:')\n",
    "print(conf_matrix)\n",
    "\n",
    "# Display classification report\n",
    "class_report = classification_report(y_test, y_pred)\n",
    "print('Classification Report:')\n",
    "print(class_report)"
   ]
  },
  {
   "cell_type": "code",
   "execution_count": 160,
   "id": "5fde1c90",
   "metadata": {},
   "outputs": [],
   "source": [
    "merged_df = replaced_meta_df.merge(replaced_accepted_df[['user', 'accepted_site_id']], on='user', how='left')"
   ]
  },
  {
   "cell_type": "code",
   "execution_count": 165,
   "id": "9d5d3679",
   "metadata": {},
   "outputs": [],
   "source": [
    "merged_df = merged_df.dropna()"
   ]
  },
  {
   "cell_type": "code",
   "execution_count": 167,
   "id": "8cb456c9",
   "metadata": {},
   "outputs": [
    {
     "data": {
      "text/html": [
       "<div>\n",
       "<style scoped>\n",
       "    .dataframe tbody tr th:only-of-type {\n",
       "        vertical-align: middle;\n",
       "    }\n",
       "\n",
       "    .dataframe tbody tr th {\n",
       "        vertical-align: top;\n",
       "    }\n",
       "\n",
       "    .dataframe thead th {\n",
       "        text-align: right;\n",
       "    }\n",
       "</style>\n",
       "<table border=\"1\" class=\"dataframe\">\n",
       "  <thead>\n",
       "    <tr style=\"text-align: right;\">\n",
       "      <th></th>\n",
       "      <th>user</th>\n",
       "      <th>meta_site_id</th>\n",
       "      <th>target</th>\n",
       "      <th>accepted_site_id</th>\n",
       "    </tr>\n",
       "  </thead>\n",
       "  <tbody>\n",
       "    <tr>\n",
       "      <th>16345</th>\n",
       "      <td>user_144101</td>\n",
       "      <td>0.661473</td>\n",
       "      <td>female</td>\n",
       "      <td>0.696545</td>\n",
       "    </tr>\n",
       "  </tbody>\n",
       "</table>\n",
       "</div>"
      ],
      "text/plain": [
       "              user  meta_site_id  target  accepted_site_id\n",
       "16345  user_144101      0.661473  female          0.696545"
      ]
     },
     "execution_count": 167,
     "metadata": {},
     "output_type": "execute_result"
    }
   ],
   "source": [
    "merged_df.sample()"
   ]
  },
  {
   "cell_type": "code",
   "execution_count": 168,
   "id": "a25c2648",
   "metadata": {},
   "outputs": [
    {
     "name": "stdout",
     "output_type": "stream",
     "text": [
      "Accuracy: 0.82\n",
      "Confusion Matrix:\n",
      "[[1280  260]\n",
      " [ 250  991]]\n",
      "Classification Report:\n",
      "              precision    recall  f1-score   support\n",
      "\n",
      "      female       0.84      0.83      0.83      1540\n",
      "        male       0.79      0.80      0.80      1241\n",
      "\n",
      "    accuracy                           0.82      2781\n",
      "   macro avg       0.81      0.81      0.81      2781\n",
      "weighted avg       0.82      0.82      0.82      2781\n",
      "\n"
     ]
    }
   ],
   "source": [
    "import pandas as pd\n",
    "from sklearn.model_selection import train_test_split\n",
    "from sklearn.linear_model import LogisticRegression\n",
    "from sklearn.metrics import accuracy_score, classification_report, confusion_matrix\n",
    "\n",
    "X = merged_df[['meta_site_id', 'accepted_site_id']]\n",
    "y = merged_df['target']\n",
    "\n",
    "X_train, X_test, y_train, y_test = train_test_split(X, y, test_size=0.2, random_state=42)\n",
    "\n",
    "model = LogisticRegression()\n",
    "\n",
    "model.fit(X_train, y_train)\n",
    "\n",
    "y_pred = model.predict(X_test)\n",
    "\n",
    "# Calculate accuracy\n",
    "accuracy = accuracy_score(y_test, y_pred)\n",
    "print(f'Accuracy: {accuracy:.2f}')\n",
    "\n",
    "# Display confusion matrix\n",
    "conf_matrix = confusion_matrix(y_test, y_pred)\n",
    "print('Confusion Matrix:')\n",
    "print(conf_matrix)\n",
    "\n",
    "# Display classification report\n",
    "class_report = classification_report(y_test, y_pred)\n",
    "print('Classification Report:')\n",
    "print(class_report)"
   ]
  }
 ],
 "metadata": {
  "kernelspec": {
   "display_name": "Python 3 (ipykernel)",
   "language": "python",
   "name": "python3"
  },
  "language_info": {
   "codemirror_mode": {
    "name": "ipython",
    "version": 3
   },
   "file_extension": ".py",
   "mimetype": "text/x-python",
   "name": "python",
   "nbconvert_exporter": "python",
   "pygments_lexer": "ipython3",
   "version": "3.11.5"
  }
 },
 "nbformat": 4,
 "nbformat_minor": 5
}
