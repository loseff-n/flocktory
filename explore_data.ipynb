{
 "cells": [
  {
   "cell_type": "code",
   "execution_count": 1,
   "id": "3d0f3a42",
   "metadata": {},
   "outputs": [],
   "source": [
    "import json\n",
    "import pandas as pd\n",
    "from pandas import json_normalize"
   ]
  },
  {
   "cell_type": "code",
   "execution_count": 2,
   "id": "534d287a",
   "metadata": {},
   "outputs": [
    {
     "data": {
      "text/plain": [
       "(127755, 3)"
      ]
     },
     "execution_count": 2,
     "metadata": {},
     "output_type": "execute_result"
    }
   ],
   "source": [
    "# Загружаем данные\n",
    "train = pd.read_json('train.json', orient='index').reset_index()\n",
    "train.shape"
   ]
  },
  {
   "cell_type": "code",
   "execution_count": 21,
   "id": "306fbcef",
   "metadata": {},
   "outputs": [
    {
     "data": {
      "text/html": [
       "<div>\n",
       "<style scoped>\n",
       "    .dataframe tbody tr th:only-of-type {\n",
       "        vertical-align: middle;\n",
       "    }\n",
       "\n",
       "    .dataframe tbody tr th {\n",
       "        vertical-align: top;\n",
       "    }\n",
       "\n",
       "    .dataframe thead th {\n",
       "        text-align: right;\n",
       "    }\n",
       "</style>\n",
       "<table border=\"1\" class=\"dataframe\">\n",
       "  <thead>\n",
       "    <tr style=\"text-align: right;\">\n",
       "      <th></th>\n",
       "      <th>index</th>\n",
       "      <th>target</th>\n",
       "      <th>orders</th>\n",
       "      <th>site-meta</th>\n",
       "      <th>visits</th>\n",
       "      <th>last-visits-in-categories</th>\n",
       "      <th>exchange-sessions</th>\n",
       "    </tr>\n",
       "  </thead>\n",
       "  <tbody>\n",
       "    <tr>\n",
       "      <th>19079</th>\n",
       "      <td>user_19080</td>\n",
       "      <td>male</td>\n",
       "      <td>[{'site-id': 2, 'orders': [{'created-at': 1692...</td>\n",
       "      <td>[{'site-id': 2}, {'site-id': 30}]</td>\n",
       "      <td>[{'site-id': 3, 'first-seen': 1698167132, 'las...</td>\n",
       "      <td>[{'category': 'bank', 'last-visit-at': 1698166...</td>\n",
       "      <td>NaN</td>\n",
       "    </tr>\n",
       "  </tbody>\n",
       "</table>\n",
       "</div>"
      ],
      "text/plain": [
       "            index target                                             orders  \\\n",
       "19079  user_19080   male  [{'site-id': 2, 'orders': [{'created-at': 1692...   \n",
       "\n",
       "                               site-meta  \\\n",
       "19079  [{'site-id': 2}, {'site-id': 30}]   \n",
       "\n",
       "                                                  visits  \\\n",
       "19079  [{'site-id': 3, 'first-seen': 1698167132, 'las...   \n",
       "\n",
       "                               last-visits-in-categories exchange-sessions  \n",
       "19079  [{'category': 'bank', 'last-visit-at': 1698166...               NaN  "
      ]
     },
     "execution_count": 21,
     "metadata": {},
     "output_type": "execute_result"
    }
   ],
   "source": [
    "train.sample()"
   ]
  },
  {
   "cell_type": "code",
   "execution_count": 20,
   "id": "45eabcda",
   "metadata": {},
   "outputs": [
    {
     "data": {
      "text/plain": [
       "target\n",
       "female    0.50002\n",
       "male      0.49998\n",
       "Name: proportion, dtype: float64"
      ]
     },
     "execution_count": 20,
     "metadata": {},
     "output_type": "execute_result"
    }
   ],
   "source": [
    "# Проверим сбалансированность\n",
    "train['target'].value_counts(normalize=True)"
   ]
  },
  {
   "cell_type": "code",
   "execution_count": 4,
   "id": "1a3d2ddd",
   "metadata": {},
   "outputs": [
    {
     "data": {
      "text/plain": [
       "(127755, 7)"
      ]
     },
     "execution_count": 4,
     "metadata": {},
     "output_type": "execute_result"
    }
   ],
   "source": [
    "# Развернем фичи\n",
    "train = pd.concat([train.drop('features', axis = 1), pd.json_normalize(train['features'])], axis = 1)\n",
    "train.shape"
   ]
  },
  {
   "cell_type": "code",
   "execution_count": 5,
   "id": "c8a7b006",
   "metadata": {},
   "outputs": [
    {
     "data": {
      "text/html": [
       "<div>\n",
       "<style scoped>\n",
       "    .dataframe tbody tr th:only-of-type {\n",
       "        vertical-align: middle;\n",
       "    }\n",
       "\n",
       "    .dataframe tbody tr th {\n",
       "        vertical-align: top;\n",
       "    }\n",
       "\n",
       "    .dataframe thead th {\n",
       "        text-align: right;\n",
       "    }\n",
       "</style>\n",
       "<table border=\"1\" class=\"dataframe\">\n",
       "  <thead>\n",
       "    <tr style=\"text-align: right;\">\n",
       "      <th></th>\n",
       "      <th>index</th>\n",
       "      <th>target</th>\n",
       "      <th>orders</th>\n",
       "      <th>site-meta</th>\n",
       "      <th>visits</th>\n",
       "      <th>last-visits-in-categories</th>\n",
       "      <th>exchange-sessions</th>\n",
       "    </tr>\n",
       "  </thead>\n",
       "  <tbody>\n",
       "    <tr>\n",
       "      <th>93189</th>\n",
       "      <td>user_93190</td>\n",
       "      <td>male</td>\n",
       "      <td>[{'site-id': 478, 'orders': [{'created-at': 16...</td>\n",
       "      <td>[{'site-id': 109}, {'site-id': 355}, {'site-id...</td>\n",
       "      <td>[{'site-id': 2, 'first-seen': 1694066940, 'las...</td>\n",
       "      <td>[{'category': 'other', 'last-visit-at': 169808...</td>\n",
       "      <td>NaN</td>\n",
       "    </tr>\n",
       "    <tr>\n",
       "      <th>38812</th>\n",
       "      <td>user_38813</td>\n",
       "      <td>female</td>\n",
       "      <td>[{'site-id': 8, 'orders': [{'created-at': 1687...</td>\n",
       "      <td>[{'site-id': 397}, {'site-id': 44, 'recency': ...</td>\n",
       "      <td>[{'site-id': 371, 'first-seen': 1694916651, 'l...</td>\n",
       "      <td>[{'category': 'sport', 'last-visit-at': 162964...</td>\n",
       "      <td>[{'landed-at': 1689055385, 'sites': [158, 1, 2...</td>\n",
       "    </tr>\n",
       "    <tr>\n",
       "      <th>105959</th>\n",
       "      <td>user_105960</td>\n",
       "      <td>male</td>\n",
       "      <td>[{'site-id': 619, 'orders': [{'created-at': 16...</td>\n",
       "      <td>[{'site-id': 619, 'recency': 2, 'frequency': 2...</td>\n",
       "      <td>[{'site-id': 371, 'first-seen': 1689093635, 'l...</td>\n",
       "      <td>[{'category': 'furniture', 'last-visit-at': 16...</td>\n",
       "      <td>[{'landed-at': 1692609352, 'sites': [46, 29, 1...</td>\n",
       "    </tr>\n",
       "  </tbody>\n",
       "</table>\n",
       "</div>"
      ],
      "text/plain": [
       "              index  target  \\\n",
       "93189    user_93190    male   \n",
       "38812    user_38813  female   \n",
       "105959  user_105960    male   \n",
       "\n",
       "                                                   orders  \\\n",
       "93189   [{'site-id': 478, 'orders': [{'created-at': 16...   \n",
       "38812   [{'site-id': 8, 'orders': [{'created-at': 1687...   \n",
       "105959  [{'site-id': 619, 'orders': [{'created-at': 16...   \n",
       "\n",
       "                                                site-meta  \\\n",
       "93189   [{'site-id': 109}, {'site-id': 355}, {'site-id...   \n",
       "38812   [{'site-id': 397}, {'site-id': 44, 'recency': ...   \n",
       "105959  [{'site-id': 619, 'recency': 2, 'frequency': 2...   \n",
       "\n",
       "                                                   visits  \\\n",
       "93189   [{'site-id': 2, 'first-seen': 1694066940, 'las...   \n",
       "38812   [{'site-id': 371, 'first-seen': 1694916651, 'l...   \n",
       "105959  [{'site-id': 371, 'first-seen': 1689093635, 'l...   \n",
       "\n",
       "                                last-visits-in-categories  \\\n",
       "93189   [{'category': 'other', 'last-visit-at': 169808...   \n",
       "38812   [{'category': 'sport', 'last-visit-at': 162964...   \n",
       "105959  [{'category': 'furniture', 'last-visit-at': 16...   \n",
       "\n",
       "                                        exchange-sessions  \n",
       "93189                                                 NaN  \n",
       "38812   [{'landed-at': 1689055385, 'sites': [158, 1, 2...  \n",
       "105959  [{'landed-at': 1692609352, 'sites': [46, 29, 1...  "
      ]
     },
     "execution_count": 5,
     "metadata": {},
     "output_type": "execute_result"
    }
   ],
   "source": [
    "train.sample(3)"
   ]
  },
  {
   "cell_type": "code",
   "execution_count": 40,
   "id": "1d83ed20",
   "metadata": {},
   "outputs": [
    {
     "name": "stdout",
     "output_type": "stream",
     "text": [
      "Доля пропусков в train['features']:\n"
     ]
    },
    {
     "data": {
      "text/plain": [
       "orders                       0.095855\n",
       "site-meta                    0.000016\n",
       "visits                       0.013111\n",
       "last-visits-in-categories    0.012164\n",
       "exchange-sessions            0.413949\n",
       "dtype: float64"
      ]
     },
     "execution_count": 40,
     "metadata": {},
     "output_type": "execute_result"
    }
   ],
   "source": [
    "# Проверим заполненность\n",
    "print(\"Доля пропусков в train['features']:\")\n",
    "train.drop(columns=['index', 'target']).isna().mean()"
   ]
  },
  {
   "cell_type": "code",
   "execution_count": 9,
   "id": "616c5516",
   "metadata": {},
   "outputs": [
    {
     "data": {
      "text/html": [
       "<div>\n",
       "<style scoped>\n",
       "    .dataframe tbody tr th:only-of-type {\n",
       "        vertical-align: middle;\n",
       "    }\n",
       "\n",
       "    .dataframe tbody tr th {\n",
       "        vertical-align: top;\n",
       "    }\n",
       "\n",
       "    .dataframe thead th {\n",
       "        text-align: right;\n",
       "    }\n",
       "</style>\n",
       "<table border=\"1\" class=\"dataframe\">\n",
       "  <thead>\n",
       "    <tr style=\"text-align: right;\">\n",
       "      <th></th>\n",
       "      <th>site-id</th>\n",
       "      <th>orders</th>\n",
       "    </tr>\n",
       "  </thead>\n",
       "  <tbody>\n",
       "    <tr>\n",
       "      <th>0</th>\n",
       "      <td>1</td>\n",
       "      <td>[{'created-at': 1634292444, 'items': []}]</td>\n",
       "    </tr>\n",
       "    <tr>\n",
       "      <th>1</th>\n",
       "      <td>2</td>\n",
       "      <td>[{'created-at': 1639827297, 'items': []}, {'cr...</td>\n",
       "    </tr>\n",
       "  </tbody>\n",
       "</table>\n",
       "</div>"
      ],
      "text/plain": [
       "   site-id                                             orders\n",
       "0        1          [{'created-at': 1634292444, 'items': []}]\n",
       "1        2  [{'created-at': 1639827297, 'items': []}, {'cr..."
      ]
     },
     "execution_count": 9,
     "metadata": {},
     "output_type": "execute_result"
    }
   ],
   "source": [
    "# Последовательно точечно пройдем по структуре и посмотрим, что внутри\n",
    "pd.json_normalize(train['orders'][0])"
   ]
  },
  {
   "cell_type": "code",
   "execution_count": 69,
   "id": "c2943f72",
   "metadata": {},
   "outputs": [
    {
     "data": {
      "text/html": [
       "<div>\n",
       "<style scoped>\n",
       "    .dataframe tbody tr th:only-of-type {\n",
       "        vertical-align: middle;\n",
       "    }\n",
       "\n",
       "    .dataframe tbody tr th {\n",
       "        vertical-align: top;\n",
       "    }\n",
       "\n",
       "    .dataframe thead th {\n",
       "        text-align: right;\n",
       "    }\n",
       "</style>\n",
       "<table border=\"1\" class=\"dataframe\">\n",
       "  <thead>\n",
       "    <tr style=\"text-align: right;\">\n",
       "      <th></th>\n",
       "      <th>created-at</th>\n",
       "      <th>items</th>\n",
       "    </tr>\n",
       "  </thead>\n",
       "  <tbody>\n",
       "    <tr>\n",
       "      <th>0</th>\n",
       "      <td>1630352618</td>\n",
       "      <td>[{'id': 'item_75', 'count': 1, 'general-catego...</td>\n",
       "    </tr>\n",
       "    <tr>\n",
       "      <th>1</th>\n",
       "      <td>1648999970</td>\n",
       "      <td>[{'id': 'item_78', 'count': 1, 'general-catego...</td>\n",
       "    </tr>\n",
       "    <tr>\n",
       "      <th>2</th>\n",
       "      <td>1653315536</td>\n",
       "      <td>[{'id': 'item_80', 'count': 1, 'general-catego...</td>\n",
       "    </tr>\n",
       "  </tbody>\n",
       "</table>\n",
       "</div>"
      ],
      "text/plain": [
       "   created-at                                              items\n",
       "0  1630352618  [{'id': 'item_75', 'count': 1, 'general-catego...\n",
       "1  1648999970  [{'id': 'item_78', 'count': 1, 'general-catego...\n",
       "2  1653315536  [{'id': 'item_80', 'count': 1, 'general-catego..."
      ]
     },
     "execution_count": 69,
     "metadata": {},
     "output_type": "execute_result"
    }
   ],
   "source": [
    "w1 = pd.json_normalize(train['orders'][5])\n",
    "pd.json_normalize(w1['orders'][0])"
   ]
  },
  {
   "cell_type": "code",
   "execution_count": 70,
   "id": "1d659680",
   "metadata": {},
   "outputs": [
    {
     "data": {
      "text/html": [
       "<div>\n",
       "<style scoped>\n",
       "    .dataframe tbody tr th:only-of-type {\n",
       "        vertical-align: middle;\n",
       "    }\n",
       "\n",
       "    .dataframe tbody tr th {\n",
       "        vertical-align: top;\n",
       "    }\n",
       "\n",
       "    .dataframe thead th {\n",
       "        text-align: right;\n",
       "    }\n",
       "</style>\n",
       "<table border=\"1\" class=\"dataframe\">\n",
       "  <thead>\n",
       "    <tr style=\"text-align: right;\">\n",
       "      <th></th>\n",
       "      <th>id</th>\n",
       "      <th>count</th>\n",
       "      <th>general-category-path</th>\n",
       "      <th>brand-id</th>\n",
       "    </tr>\n",
       "  </thead>\n",
       "  <tbody>\n",
       "    <tr>\n",
       "      <th>0</th>\n",
       "      <td>item_75</td>\n",
       "      <td>1</td>\n",
       "      <td>[7812065, 7812006, 7811879, 7877999]</td>\n",
       "      <td>2458</td>\n",
       "    </tr>\n",
       "    <tr>\n",
       "      <th>1</th>\n",
       "      <td>item_76</td>\n",
       "      <td>1</td>\n",
       "      <td>[7811945, 7811896, 7811873, 7877999]</td>\n",
       "      <td>2458</td>\n",
       "    </tr>\n",
       "    <tr>\n",
       "      <th>2</th>\n",
       "      <td>item_77</td>\n",
       "      <td>1</td>\n",
       "      <td>[7811945, 7811896, 7811873, 7877999]</td>\n",
       "      <td>2458</td>\n",
       "    </tr>\n",
       "  </tbody>\n",
       "</table>\n",
       "</div>"
      ],
      "text/plain": [
       "        id  count                 general-category-path  brand-id\n",
       "0  item_75      1  [7812065, 7812006, 7811879, 7877999]      2458\n",
       "1  item_76      1  [7811945, 7811896, 7811873, 7877999]      2458\n",
       "2  item_77      1  [7811945, 7811896, 7811873, 7877999]      2458"
      ]
     },
     "execution_count": 70,
     "metadata": {},
     "output_type": "execute_result"
    }
   ],
   "source": [
    "w10 = pd.json_normalize(w1['orders'][0])\n",
    "pd.json_normalize(w10['items'][0])"
   ]
  },
  {
   "cell_type": "code",
   "execution_count": 28,
   "id": "406c311c",
   "metadata": {},
   "outputs": [
    {
     "data": {
      "text/html": [
       "<div>\n",
       "<style scoped>\n",
       "    .dataframe tbody tr th:only-of-type {\n",
       "        vertical-align: middle;\n",
       "    }\n",
       "\n",
       "    .dataframe tbody tr th {\n",
       "        vertical-align: top;\n",
       "    }\n",
       "\n",
       "    .dataframe thead th {\n",
       "        text-align: right;\n",
       "    }\n",
       "</style>\n",
       "<table border=\"1\" class=\"dataframe\">\n",
       "  <thead>\n",
       "    <tr style=\"text-align: right;\">\n",
       "      <th></th>\n",
       "      <th>site-id</th>\n",
       "      <th>recency</th>\n",
       "      <th>frequency</th>\n",
       "      <th>monetary</th>\n",
       "    </tr>\n",
       "  </thead>\n",
       "  <tbody>\n",
       "    <tr>\n",
       "      <th>0</th>\n",
       "      <td>389</td>\n",
       "      <td>1.0</td>\n",
       "      <td>1.0</td>\n",
       "      <td>3.0</td>\n",
       "    </tr>\n",
       "    <tr>\n",
       "      <th>1</th>\n",
       "      <td>479</td>\n",
       "      <td>NaN</td>\n",
       "      <td>NaN</td>\n",
       "      <td>NaN</td>\n",
       "    </tr>\n",
       "    <tr>\n",
       "      <th>2</th>\n",
       "      <td>17</td>\n",
       "      <td>NaN</td>\n",
       "      <td>NaN</td>\n",
       "      <td>NaN</td>\n",
       "    </tr>\n",
       "    <tr>\n",
       "      <th>3</th>\n",
       "      <td>320</td>\n",
       "      <td>NaN</td>\n",
       "      <td>NaN</td>\n",
       "      <td>NaN</td>\n",
       "    </tr>\n",
       "    <tr>\n",
       "      <th>4</th>\n",
       "      <td>88</td>\n",
       "      <td>NaN</td>\n",
       "      <td>NaN</td>\n",
       "      <td>NaN</td>\n",
       "    </tr>\n",
       "  </tbody>\n",
       "</table>\n",
       "</div>"
      ],
      "text/plain": [
       "   site-id  recency  frequency  monetary\n",
       "0      389      1.0        1.0       3.0\n",
       "1      479      NaN        NaN       NaN\n",
       "2       17      NaN        NaN       NaN\n",
       "3      320      NaN        NaN       NaN\n",
       "4       88      NaN        NaN       NaN"
      ]
     },
     "execution_count": 28,
     "metadata": {},
     "output_type": "execute_result"
    }
   ],
   "source": [
    "pd.json_normalize(train['site-meta'][10])"
   ]
  },
  {
   "cell_type": "code",
   "execution_count": 31,
   "id": "0e03f44e",
   "metadata": {},
   "outputs": [
    {
     "data": {
      "text/html": [
       "<div>\n",
       "<style scoped>\n",
       "    .dataframe tbody tr th:only-of-type {\n",
       "        vertical-align: middle;\n",
       "    }\n",
       "\n",
       "    .dataframe tbody tr th {\n",
       "        vertical-align: top;\n",
       "    }\n",
       "\n",
       "    .dataframe thead th {\n",
       "        text-align: right;\n",
       "    }\n",
       "</style>\n",
       "<table border=\"1\" class=\"dataframe\">\n",
       "  <thead>\n",
       "    <tr style=\"text-align: right;\">\n",
       "      <th></th>\n",
       "      <th>site-id</th>\n",
       "      <th>first-seen</th>\n",
       "      <th>last-seen</th>\n",
       "      <th>visits</th>\n",
       "    </tr>\n",
       "  </thead>\n",
       "  <tbody>\n",
       "    <tr>\n",
       "      <th>0</th>\n",
       "      <td>191</td>\n",
       "      <td>1692534275</td>\n",
       "      <td>1692534275</td>\n",
       "      <td>[{'visited-at': 1692534275, 'session-duration'...</td>\n",
       "    </tr>\n",
       "    <tr>\n",
       "      <th>1</th>\n",
       "      <td>3</td>\n",
       "      <td>1690569268</td>\n",
       "      <td>1697188144</td>\n",
       "      <td>[{'visited-at': 1690569268, 'session-duration'...</td>\n",
       "    </tr>\n",
       "    <tr>\n",
       "      <th>2</th>\n",
       "      <td>320</td>\n",
       "      <td>1690631283</td>\n",
       "      <td>1697462503</td>\n",
       "      <td>[{'visited-at': 1690631283, 'session-duration'...</td>\n",
       "    </tr>\n",
       "    <tr>\n",
       "      <th>3</th>\n",
       "      <td>217</td>\n",
       "      <td>1695130721</td>\n",
       "      <td>1695130721</td>\n",
       "      <td>[{'visited-at': 1695130721, 'session-duration'...</td>\n",
       "    </tr>\n",
       "    <tr>\n",
       "      <th>4</th>\n",
       "      <td>478</td>\n",
       "      <td>1688469761</td>\n",
       "      <td>1688469761</td>\n",
       "      <td>[{'visited-at': 1688469761, 'session-duration'...</td>\n",
       "    </tr>\n",
       "  </tbody>\n",
       "</table>\n",
       "</div>"
      ],
      "text/plain": [
       "   site-id  first-seen   last-seen  \\\n",
       "0      191  1692534275  1692534275   \n",
       "1        3  1690569268  1697188144   \n",
       "2      320  1690631283  1697462503   \n",
       "3      217  1695130721  1695130721   \n",
       "4      478  1688469761  1688469761   \n",
       "\n",
       "                                              visits  \n",
       "0  [{'visited-at': 1692534275, 'session-duration'...  \n",
       "1  [{'visited-at': 1690569268, 'session-duration'...  \n",
       "2  [{'visited-at': 1690631283, 'session-duration'...  \n",
       "3  [{'visited-at': 1695130721, 'session-duration'...  \n",
       "4  [{'visited-at': 1688469761, 'session-duration'...  "
      ]
     },
     "execution_count": 31,
     "metadata": {},
     "output_type": "execute_result"
    }
   ],
   "source": [
    "pd.json_normalize(train['visits'][10])"
   ]
  },
  {
   "cell_type": "code",
   "execution_count": 65,
   "id": "ecebb91c",
   "metadata": {},
   "outputs": [
    {
     "data": {
      "text/html": [
       "<div>\n",
       "<style scoped>\n",
       "    .dataframe tbody tr th:only-of-type {\n",
       "        vertical-align: middle;\n",
       "    }\n",
       "\n",
       "    .dataframe tbody tr th {\n",
       "        vertical-align: top;\n",
       "    }\n",
       "\n",
       "    .dataframe thead th {\n",
       "        text-align: right;\n",
       "    }\n",
       "</style>\n",
       "<table border=\"1\" class=\"dataframe\">\n",
       "  <thead>\n",
       "    <tr style=\"text-align: right;\">\n",
       "      <th></th>\n",
       "      <th>visited-at</th>\n",
       "      <th>session-duration</th>\n",
       "      <th>pages-count</th>\n",
       "    </tr>\n",
       "  </thead>\n",
       "  <tbody>\n",
       "    <tr>\n",
       "      <th>0</th>\n",
       "      <td>1690569268</td>\n",
       "      <td>143</td>\n",
       "      <td>3</td>\n",
       "    </tr>\n",
       "    <tr>\n",
       "      <th>1</th>\n",
       "      <td>1690631190</td>\n",
       "      <td>55</td>\n",
       "      <td>2</td>\n",
       "    </tr>\n",
       "    <tr>\n",
       "      <th>2</th>\n",
       "      <td>1695130521</td>\n",
       "      <td>52</td>\n",
       "      <td>2</td>\n",
       "    </tr>\n",
       "    <tr>\n",
       "      <th>3</th>\n",
       "      <td>1697188144</td>\n",
       "      <td>58</td>\n",
       "      <td>2</td>\n",
       "    </tr>\n",
       "  </tbody>\n",
       "</table>\n",
       "</div>"
      ],
      "text/plain": [
       "   visited-at  session-duration  pages-count\n",
       "0  1690569268               143            3\n",
       "1  1690631190                55            2\n",
       "2  1695130521                52            2\n",
       "3  1697188144                58            2"
      ]
     },
     "execution_count": 65,
     "metadata": {},
     "output_type": "execute_result"
    }
   ],
   "source": [
    "pd.json_normalize(pd.json_normalize(train['visits'][10])['visits'][1])"
   ]
  },
  {
   "cell_type": "code",
   "execution_count": 60,
   "id": "0493c97d",
   "metadata": {},
   "outputs": [
    {
     "data": {
      "text/html": [
       "<div>\n",
       "<style scoped>\n",
       "    .dataframe tbody tr th:only-of-type {\n",
       "        vertical-align: middle;\n",
       "    }\n",
       "\n",
       "    .dataframe tbody tr th {\n",
       "        vertical-align: top;\n",
       "    }\n",
       "\n",
       "    .dataframe thead th {\n",
       "        text-align: right;\n",
       "    }\n",
       "</style>\n",
       "<table border=\"1\" class=\"dataframe\">\n",
       "  <thead>\n",
       "    <tr style=\"text-align: right;\">\n",
       "      <th></th>\n",
       "      <th>landed-at</th>\n",
       "      <th>sites</th>\n",
       "      <th>clicks</th>\n",
       "      <th>accepted-site-id</th>\n",
       "      <th>accepted-at</th>\n",
       "    </tr>\n",
       "  </thead>\n",
       "  <tbody>\n",
       "    <tr>\n",
       "      <th>0</th>\n",
       "      <td>1698263812</td>\n",
       "      <td>[169, 214, 215, 216, 217, 218, 1, 219, 220, 22...</td>\n",
       "      <td>[{'clicked-at': 1698263944, 'site-id': 207}]</td>\n",
       "      <td>207.0</td>\n",
       "      <td>1.698264e+09</td>\n",
       "    </tr>\n",
       "    <tr>\n",
       "      <th>1</th>\n",
       "      <td>1658944504</td>\n",
       "      <td>[46, 21, 29, 78, 180, 158, 42, 74, 1, 119, 22,...</td>\n",
       "      <td>[{'clicked-at': 1658944723, 'site-id': 1}]</td>\n",
       "      <td>1.0</td>\n",
       "      <td>1.658945e+09</td>\n",
       "    </tr>\n",
       "    <tr>\n",
       "      <th>2</th>\n",
       "      <td>1646471462</td>\n",
       "      <td>[326, 71, 2, 1, 21, 171, 31, 74, 80, 325, 335,...</td>\n",
       "      <td>NaN</td>\n",
       "      <td>NaN</td>\n",
       "      <td>NaN</td>\n",
       "    </tr>\n",
       "    <tr>\n",
       "      <th>3</th>\n",
       "      <td>1644170436</td>\n",
       "      <td>[326, 71, 2, 1, 21, 48, 336, 74, 75, 79, 92, 8...</td>\n",
       "      <td>[{'clicked-at': 1644170563, 'site-id': 21}]</td>\n",
       "      <td>NaN</td>\n",
       "      <td>NaN</td>\n",
       "    </tr>\n",
       "    <tr>\n",
       "      <th>4</th>\n",
       "      <td>1630352621</td>\n",
       "      <td>[21, 31, 74, 83, 90, 146, 88, 98, 80, 180, 46,...</td>\n",
       "      <td>[{'clicked-at': 1630352688, 'site-id': 21}]</td>\n",
       "      <td>21.0</td>\n",
       "      <td>1.630353e+09</td>\n",
       "    </tr>\n",
       "    <tr>\n",
       "      <th>5</th>\n",
       "      <td>1596455506</td>\n",
       "      <td>[80, 180, 97, 151, 174, 159, 40, 81, 199, 21, ...</td>\n",
       "      <td>[{'clicked-at': 1596455528, 'site-id': 151}]</td>\n",
       "      <td>NaN</td>\n",
       "      <td>NaN</td>\n",
       "    </tr>\n",
       "    <tr>\n",
       "      <th>6</th>\n",
       "      <td>1578392090</td>\n",
       "      <td>[34, 188, 179, 81, 174, 46, 175, 181, 208, 86,...</td>\n",
       "      <td>[{'clicked-at': 1578392170, 'site-id': 34}]</td>\n",
       "      <td>34.0</td>\n",
       "      <td>1.578392e+09</td>\n",
       "    </tr>\n",
       "    <tr>\n",
       "      <th>7</th>\n",
       "      <td>1509304461</td>\n",
       "      <td>[37, 337, 184, 341, 5, 147, 342, 79, 93, 343, ...</td>\n",
       "      <td>[{'clicked-at': 1509304683, 'site-id': 16}, {'...</td>\n",
       "      <td>16.0</td>\n",
       "      <td>1.509305e+09</td>\n",
       "    </tr>\n",
       "  </tbody>\n",
       "</table>\n",
       "</div>"
      ],
      "text/plain": [
       "    landed-at                                              sites  \\\n",
       "0  1698263812  [169, 214, 215, 216, 217, 218, 1, 219, 220, 22...   \n",
       "1  1658944504  [46, 21, 29, 78, 180, 158, 42, 74, 1, 119, 22,...   \n",
       "2  1646471462  [326, 71, 2, 1, 21, 171, 31, 74, 80, 325, 335,...   \n",
       "3  1644170436  [326, 71, 2, 1, 21, 48, 336, 74, 75, 79, 92, 8...   \n",
       "4  1630352621  [21, 31, 74, 83, 90, 146, 88, 98, 80, 180, 46,...   \n",
       "5  1596455506  [80, 180, 97, 151, 174, 159, 40, 81, 199, 21, ...   \n",
       "6  1578392090  [34, 188, 179, 81, 174, 46, 175, 181, 208, 86,...   \n",
       "7  1509304461  [37, 337, 184, 341, 5, 147, 342, 79, 93, 343, ...   \n",
       "\n",
       "                                              clicks  accepted-site-id  \\\n",
       "0       [{'clicked-at': 1698263944, 'site-id': 207}]             207.0   \n",
       "1         [{'clicked-at': 1658944723, 'site-id': 1}]               1.0   \n",
       "2                                                NaN               NaN   \n",
       "3        [{'clicked-at': 1644170563, 'site-id': 21}]               NaN   \n",
       "4        [{'clicked-at': 1630352688, 'site-id': 21}]              21.0   \n",
       "5       [{'clicked-at': 1596455528, 'site-id': 151}]               NaN   \n",
       "6        [{'clicked-at': 1578392170, 'site-id': 34}]              34.0   \n",
       "7  [{'clicked-at': 1509304683, 'site-id': 16}, {'...              16.0   \n",
       "\n",
       "    accepted-at  \n",
       "0  1.698264e+09  \n",
       "1  1.658945e+09  \n",
       "2           NaN  \n",
       "3           NaN  \n",
       "4  1.630353e+09  \n",
       "5           NaN  \n",
       "6  1.578392e+09  \n",
       "7  1.509305e+09  "
      ]
     },
     "execution_count": 60,
     "metadata": {},
     "output_type": "execute_result"
    }
   ],
   "source": [
    "pd.json_normalize(train['exchange-sessions'][5])"
   ]
  },
  {
   "cell_type": "code",
   "execution_count": 64,
   "id": "1fb32e27",
   "metadata": {},
   "outputs": [
    {
     "data": {
      "text/html": [
       "<div>\n",
       "<style scoped>\n",
       "    .dataframe tbody tr th:only-of-type {\n",
       "        vertical-align: middle;\n",
       "    }\n",
       "\n",
       "    .dataframe tbody tr th {\n",
       "        vertical-align: top;\n",
       "    }\n",
       "\n",
       "    .dataframe thead th {\n",
       "        text-align: right;\n",
       "    }\n",
       "</style>\n",
       "<table border=\"1\" class=\"dataframe\">\n",
       "  <thead>\n",
       "    <tr style=\"text-align: right;\">\n",
       "      <th></th>\n",
       "      <th>clicked-at</th>\n",
       "      <th>site-id</th>\n",
       "    </tr>\n",
       "  </thead>\n",
       "  <tbody>\n",
       "    <tr>\n",
       "      <th>0</th>\n",
       "      <td>1509304683</td>\n",
       "      <td>16</td>\n",
       "    </tr>\n",
       "    <tr>\n",
       "      <th>1</th>\n",
       "      <td>1509304764</td>\n",
       "      <td>16</td>\n",
       "    </tr>\n",
       "  </tbody>\n",
       "</table>\n",
       "</div>"
      ],
      "text/plain": [
       "   clicked-at  site-id\n",
       "0  1509304683       16\n",
       "1  1509304764       16"
      ]
     },
     "execution_count": 64,
     "metadata": {},
     "output_type": "execute_result"
    }
   ],
   "source": [
    "pd.json_normalize(pd.json_normalize(train['exchange-sessions'][5])['clicks'][7])"
   ]
  },
  {
   "cell_type": "code",
   "execution_count": 43,
   "id": "8277d504",
   "metadata": {},
   "outputs": [
    {
     "data": {
      "text/html": [
       "<div>\n",
       "<style scoped>\n",
       "    .dataframe tbody tr th:only-of-type {\n",
       "        vertical-align: middle;\n",
       "    }\n",
       "\n",
       "    .dataframe tbody tr th {\n",
       "        vertical-align: top;\n",
       "    }\n",
       "\n",
       "    .dataframe thead th {\n",
       "        text-align: right;\n",
       "    }\n",
       "</style>\n",
       "<table border=\"1\" class=\"dataframe\">\n",
       "  <thead>\n",
       "    <tr style=\"text-align: right;\">\n",
       "      <th></th>\n",
       "      <th>category</th>\n",
       "      <th>last-visit-at</th>\n",
       "    </tr>\n",
       "  </thead>\n",
       "  <tbody>\n",
       "    <tr>\n",
       "      <th>0</th>\n",
       "      <td>electronics</td>\n",
       "      <td>1686982782</td>\n",
       "    </tr>\n",
       "    <tr>\n",
       "      <th>1</th>\n",
       "      <td>other</td>\n",
       "      <td>1696320204</td>\n",
       "    </tr>\n",
       "  </tbody>\n",
       "</table>\n",
       "</div>"
      ],
      "text/plain": [
       "      category  last-visit-at\n",
       "0  electronics     1686982782\n",
       "1        other     1696320204"
      ]
     },
     "execution_count": 43,
     "metadata": {},
     "output_type": "execute_result"
    }
   ],
   "source": [
    "pd.json_normalize(train['last-visits-in-categories'][2])"
   ]
  }
 ],
 "metadata": {
  "kernelspec": {
   "display_name": "Python 3 (ipykernel)",
   "language": "python",
   "name": "python3"
  },
  "language_info": {
   "codemirror_mode": {
    "name": "ipython",
    "version": 3
   },
   "file_extension": ".py",
   "mimetype": "text/x-python",
   "name": "python",
   "nbconvert_exporter": "python",
   "pygments_lexer": "ipython3",
   "version": "3.11.5"
  }
 },
 "nbformat": 4,
 "nbformat_minor": 5
}
