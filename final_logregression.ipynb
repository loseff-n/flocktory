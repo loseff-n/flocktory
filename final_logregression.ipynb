{
 "cells": [
  {
   "cell_type": "code",
   "execution_count": 1,
   "metadata": {},
   "outputs": [],
   "source": [
    "import pandas as pd\n",
    "import re"
   ]
  },
  {
   "cell_type": "code",
   "execution_count": 2,
   "metadata": {},
   "outputs": [],
   "source": [
    "train = pd.read_json('train.json', orient='index').reset_index()"
   ]
  },
  {
   "cell_type": "code",
   "execution_count": 3,
   "metadata": {},
   "outputs": [
    {
     "data": {
      "text/plain": [
       "(127755, 3)"
      ]
     },
     "execution_count": 3,
     "metadata": {},
     "output_type": "execute_result"
    }
   ],
   "source": [
    "train.shape"
   ]
  },
  {
   "cell_type": "code",
   "execution_count": 54,
   "metadata": {},
   "outputs": [
    {
     "data": {
      "text/html": [
       "<div>\n",
       "<style scoped>\n",
       "    .dataframe tbody tr th:only-of-type {\n",
       "        vertical-align: middle;\n",
       "    }\n",
       "\n",
       "    .dataframe tbody tr th {\n",
       "        vertical-align: top;\n",
       "    }\n",
       "\n",
       "    .dataframe thead th {\n",
       "        text-align: right;\n",
       "    }\n",
       "</style>\n",
       "<table border=\"1\" class=\"dataframe\">\n",
       "  <thead>\n",
       "    <tr style=\"text-align: right;\">\n",
       "      <th></th>\n",
       "      <th>user</th>\n",
       "      <th>target</th>\n",
       "      <th>orders</th>\n",
       "      <th>site-meta</th>\n",
       "      <th>visits</th>\n",
       "      <th>last-visits-in-categories</th>\n",
       "      <th>exchange-sessions</th>\n",
       "    </tr>\n",
       "  </thead>\n",
       "  <tbody>\n",
       "    <tr>\n",
       "      <th>0</th>\n",
       "      <td>user_1</td>\n",
       "      <td>female</td>\n",
       "      <td>[{'site-id': 1, 'orders': [{'created-at': 1634...</td>\n",
       "      <td>[{'site-id': 2}]</td>\n",
       "      <td>NaN</td>\n",
       "      <td>NaN</td>\n",
       "      <td>NaN</td>\n",
       "    </tr>\n",
       "  </tbody>\n",
       "</table>\n",
       "</div>"
      ],
      "text/plain": [
       "     user  target                                             orders  \\\n",
       "0  user_1  female  [{'site-id': 1, 'orders': [{'created-at': 1634...   \n",
       "\n",
       "          site-meta visits last-visits-in-categories exchange-sessions  \n",
       "0  [{'site-id': 2}]    NaN                       NaN               NaN  "
      ]
     },
     "execution_count": 54,
     "metadata": {},
     "output_type": "execute_result"
    }
   ],
   "source": [
    "train.head(1)"
   ]
  },
  {
   "cell_type": "code",
   "execution_count": 5,
   "metadata": {},
   "outputs": [
    {
     "data": {
      "text/html": [
       "<div>\n",
       "<style scoped>\n",
       "    .dataframe tbody tr th:only-of-type {\n",
       "        vertical-align: middle;\n",
       "    }\n",
       "\n",
       "    .dataframe tbody tr th {\n",
       "        vertical-align: top;\n",
       "    }\n",
       "\n",
       "    .dataframe thead th {\n",
       "        text-align: right;\n",
       "    }\n",
       "</style>\n",
       "<table border=\"1\" class=\"dataframe\">\n",
       "  <thead>\n",
       "    <tr style=\"text-align: right;\">\n",
       "      <th></th>\n",
       "      <th>user</th>\n",
       "      <th>target</th>\n",
       "    </tr>\n",
       "  </thead>\n",
       "  <tbody>\n",
       "    <tr>\n",
       "      <th>0</th>\n",
       "      <td>user_1</td>\n",
       "      <td>female</td>\n",
       "    </tr>\n",
       "  </tbody>\n",
       "</table>\n",
       "</div>"
      ],
      "text/plain": [
       "     user  target\n",
       "0  user_1  female"
      ]
     },
     "execution_count": 5,
     "metadata": {},
     "output_type": "execute_result"
    }
   ],
   "source": [
    "train.rename(columns={'index':'user'}, inplace=True)\n",
    "users = train.drop(columns='features')\n",
    "users.head(1)"
   ]
  },
  {
   "cell_type": "code",
   "execution_count": 6,
   "metadata": {},
   "outputs": [
    {
     "data": {
      "text/plain": [
       "(127755, 7)"
      ]
     },
     "execution_count": 6,
     "metadata": {},
     "output_type": "execute_result"
    }
   ],
   "source": [
    "train = pd.concat([train.drop('features', axis = 1), pd.json_normalize(train['features'])], axis = 1)\n",
    "train.shape"
   ]
  },
  {
   "cell_type": "code",
   "execution_count": 7,
   "metadata": {},
   "outputs": [
    {
     "data": {
      "text/html": [
       "<div>\n",
       "<style scoped>\n",
       "    .dataframe tbody tr th:only-of-type {\n",
       "        vertical-align: middle;\n",
       "    }\n",
       "\n",
       "    .dataframe tbody tr th {\n",
       "        vertical-align: top;\n",
       "    }\n",
       "\n",
       "    .dataframe thead th {\n",
       "        text-align: right;\n",
       "    }\n",
       "</style>\n",
       "<table border=\"1\" class=\"dataframe\">\n",
       "  <thead>\n",
       "    <tr style=\"text-align: right;\">\n",
       "      <th></th>\n",
       "      <th>user</th>\n",
       "      <th>target</th>\n",
       "      <th>orders</th>\n",
       "      <th>site-meta</th>\n",
       "      <th>visits</th>\n",
       "      <th>last-visits-in-categories</th>\n",
       "      <th>exchange-sessions</th>\n",
       "    </tr>\n",
       "  </thead>\n",
       "  <tbody>\n",
       "    <tr>\n",
       "      <th>67267</th>\n",
       "      <td>user_67268</td>\n",
       "      <td>female</td>\n",
       "      <td>[{'site-id': 34, 'orders': [{'created-at': 156...</td>\n",
       "      <td>[{'site-id': 371}, {'site-id': 146}, {'site-id...</td>\n",
       "      <td>[{'site-id': 3, 'first-seen': 1693067437, 'las...</td>\n",
       "      <td>[{'category': 'other', 'last-visit-at': 169765...</td>\n",
       "      <td>[{'landed-at': 1694763414, 'sites': [21, 7, 2,...</td>\n",
       "    </tr>\n",
       "  </tbody>\n",
       "</table>\n",
       "</div>"
      ],
      "text/plain": [
       "             user  target                                             orders  \\\n",
       "67267  user_67268  female  [{'site-id': 34, 'orders': [{'created-at': 156...   \n",
       "\n",
       "                                               site-meta  \\\n",
       "67267  [{'site-id': 371}, {'site-id': 146}, {'site-id...   \n",
       "\n",
       "                                                  visits  \\\n",
       "67267  [{'site-id': 3, 'first-seen': 1693067437, 'las...   \n",
       "\n",
       "                               last-visits-in-categories  \\\n",
       "67267  [{'category': 'other', 'last-visit-at': 169765...   \n",
       "\n",
       "                                       exchange-sessions  \n",
       "67267  [{'landed-at': 1694763414, 'sites': [21, 7, 2,...  "
      ]
     },
     "execution_count": 7,
     "metadata": {},
     "output_type": "execute_result"
    }
   ],
   "source": [
    "train.sample()"
   ]
  },
  {
   "cell_type": "code",
   "execution_count": 24,
   "metadata": {},
   "outputs": [],
   "source": [
    "orders = train.drop(columns=['visits', 'site-meta', 'exchange-sessions', 'last-visits-in-categories'])\n",
    "site_meta = train.drop(columns=['visits', 'orders', 'exchange-sessions', 'last-visits-in-categories'])"
   ]
  },
  {
   "cell_type": "code",
   "execution_count": 25,
   "metadata": {},
   "outputs": [],
   "source": [
    "orders['orders'] = orders['orders'].apply(lambda x: re.findall(r'item_\\d+', str(x)) if not isinstance(x, float) else x)\n",
    "site_meta['site-meta'] = site_meta['site-meta'].apply(lambda x: re.findall(r\"'site-id':\\s*(\\d+)\", str(x)) if not isinstance(x, float) else x)"
   ]
  },
  {
   "cell_type": "code",
   "execution_count": 26,
   "metadata": {},
   "outputs": [],
   "source": [
    "orders = orders.explode('orders')\n",
    "site_meta = site_meta.explode('site-meta')"
   ]
  },
  {
   "cell_type": "code",
   "execution_count": 27,
   "metadata": {},
   "outputs": [
    {
     "data": {
      "text/html": [
       "<div>\n",
       "<style scoped>\n",
       "    .dataframe tbody tr th:only-of-type {\n",
       "        vertical-align: middle;\n",
       "    }\n",
       "\n",
       "    .dataframe tbody tr th {\n",
       "        vertical-align: top;\n",
       "    }\n",
       "\n",
       "    .dataframe thead th {\n",
       "        text-align: right;\n",
       "    }\n",
       "</style>\n",
       "<table border=\"1\" class=\"dataframe\">\n",
       "  <thead>\n",
       "    <tr style=\"text-align: right;\">\n",
       "      <th></th>\n",
       "      <th>user</th>\n",
       "      <th>target</th>\n",
       "      <th>orders</th>\n",
       "    </tr>\n",
       "  </thead>\n",
       "  <tbody>\n",
       "    <tr>\n",
       "      <th>0</th>\n",
       "      <td>user_1</td>\n",
       "      <td>female</td>\n",
       "      <td>NaN</td>\n",
       "    </tr>\n",
       "    <tr>\n",
       "      <th>1</th>\n",
       "      <td>user_2</td>\n",
       "      <td>female</td>\n",
       "      <td>NaN</td>\n",
       "    </tr>\n",
       "    <tr>\n",
       "      <th>2</th>\n",
       "      <td>user_3</td>\n",
       "      <td>male</td>\n",
       "      <td>item_1</td>\n",
       "    </tr>\n",
       "    <tr>\n",
       "      <th>3</th>\n",
       "      <td>user_4</td>\n",
       "      <td>male</td>\n",
       "      <td>item_8</td>\n",
       "    </tr>\n",
       "    <tr>\n",
       "      <th>3</th>\n",
       "      <td>user_4</td>\n",
       "      <td>male</td>\n",
       "      <td>item_9</td>\n",
       "    </tr>\n",
       "    <tr>\n",
       "      <th>...</th>\n",
       "      <td>...</td>\n",
       "      <td>...</td>\n",
       "      <td>...</td>\n",
       "    </tr>\n",
       "    <tr>\n",
       "      <th>127754</th>\n",
       "      <td>user_127755</td>\n",
       "      <td>female</td>\n",
       "      <td>item_162398</td>\n",
       "    </tr>\n",
       "    <tr>\n",
       "      <th>127754</th>\n",
       "      <td>user_127755</td>\n",
       "      <td>female</td>\n",
       "      <td>item_1896437</td>\n",
       "    </tr>\n",
       "    <tr>\n",
       "      <th>127754</th>\n",
       "      <td>user_127755</td>\n",
       "      <td>female</td>\n",
       "      <td>item_3739266</td>\n",
       "    </tr>\n",
       "    <tr>\n",
       "      <th>127754</th>\n",
       "      <td>user_127755</td>\n",
       "      <td>female</td>\n",
       "      <td>item_57560</td>\n",
       "    </tr>\n",
       "    <tr>\n",
       "      <th>127754</th>\n",
       "      <td>user_127755</td>\n",
       "      <td>female</td>\n",
       "      <td>item_2858</td>\n",
       "    </tr>\n",
       "  </tbody>\n",
       "</table>\n",
       "<p>3086869 rows × 3 columns</p>\n",
       "</div>"
      ],
      "text/plain": [
       "               user  target        orders\n",
       "0            user_1  female           NaN\n",
       "1            user_2  female           NaN\n",
       "2            user_3    male        item_1\n",
       "3            user_4    male        item_8\n",
       "3            user_4    male        item_9\n",
       "...             ...     ...           ...\n",
       "127754  user_127755  female   item_162398\n",
       "127754  user_127755  female  item_1896437\n",
       "127754  user_127755  female  item_3739266\n",
       "127754  user_127755  female    item_57560\n",
       "127754  user_127755  female     item_2858\n",
       "\n",
       "[3086869 rows x 3 columns]"
      ]
     },
     "execution_count": 27,
     "metadata": {},
     "output_type": "execute_result"
    }
   ],
   "source": [
    "orders"
   ]
  },
  {
   "cell_type": "code",
   "execution_count": 28,
   "metadata": {},
   "outputs": [
    {
     "data": {
      "text/html": [
       "<div>\n",
       "<style scoped>\n",
       "    .dataframe tbody tr th:only-of-type {\n",
       "        vertical-align: middle;\n",
       "    }\n",
       "\n",
       "    .dataframe tbody tr th {\n",
       "        vertical-align: top;\n",
       "    }\n",
       "\n",
       "    .dataframe thead th {\n",
       "        text-align: right;\n",
       "    }\n",
       "</style>\n",
       "<table border=\"1\" class=\"dataframe\">\n",
       "  <thead>\n",
       "    <tr style=\"text-align: right;\">\n",
       "      <th></th>\n",
       "      <th>user</th>\n",
       "      <th>target</th>\n",
       "      <th>site-meta</th>\n",
       "    </tr>\n",
       "  </thead>\n",
       "  <tbody>\n",
       "    <tr>\n",
       "      <th>0</th>\n",
       "      <td>user_1</td>\n",
       "      <td>female</td>\n",
       "      <td>2</td>\n",
       "    </tr>\n",
       "    <tr>\n",
       "      <th>1</th>\n",
       "      <td>user_2</td>\n",
       "      <td>female</td>\n",
       "      <td>4</td>\n",
       "    </tr>\n",
       "    <tr>\n",
       "      <th>1</th>\n",
       "      <td>user_2</td>\n",
       "      <td>female</td>\n",
       "      <td>5</td>\n",
       "    </tr>\n",
       "    <tr>\n",
       "      <th>1</th>\n",
       "      <td>user_2</td>\n",
       "      <td>female</td>\n",
       "      <td>6</td>\n",
       "    </tr>\n",
       "    <tr>\n",
       "      <th>1</th>\n",
       "      <td>user_2</td>\n",
       "      <td>female</td>\n",
       "      <td>7</td>\n",
       "    </tr>\n",
       "    <tr>\n",
       "      <th>...</th>\n",
       "      <td>...</td>\n",
       "      <td>...</td>\n",
       "      <td>...</td>\n",
       "    </tr>\n",
       "    <tr>\n",
       "      <th>127754</th>\n",
       "      <td>user_127755</td>\n",
       "      <td>female</td>\n",
       "      <td>194</td>\n",
       "    </tr>\n",
       "    <tr>\n",
       "      <th>127754</th>\n",
       "      <td>user_127755</td>\n",
       "      <td>female</td>\n",
       "      <td>212</td>\n",
       "    </tr>\n",
       "    <tr>\n",
       "      <th>127754</th>\n",
       "      <td>user_127755</td>\n",
       "      <td>female</td>\n",
       "      <td>65</td>\n",
       "    </tr>\n",
       "    <tr>\n",
       "      <th>127754</th>\n",
       "      <td>user_127755</td>\n",
       "      <td>female</td>\n",
       "      <td>213</td>\n",
       "    </tr>\n",
       "    <tr>\n",
       "      <th>127754</th>\n",
       "      <td>user_127755</td>\n",
       "      <td>female</td>\n",
       "      <td>38</td>\n",
       "    </tr>\n",
       "  </tbody>\n",
       "</table>\n",
       "<p>1356559 rows × 3 columns</p>\n",
       "</div>"
      ],
      "text/plain": [
       "               user  target site-meta\n",
       "0            user_1  female         2\n",
       "1            user_2  female         4\n",
       "1            user_2  female         5\n",
       "1            user_2  female         6\n",
       "1            user_2  female         7\n",
       "...             ...     ...       ...\n",
       "127754  user_127755  female       194\n",
       "127754  user_127755  female       212\n",
       "127754  user_127755  female        65\n",
       "127754  user_127755  female       213\n",
       "127754  user_127755  female        38\n",
       "\n",
       "[1356559 rows x 3 columns]"
      ]
     },
     "execution_count": 28,
     "metadata": {},
     "output_type": "execute_result"
    }
   ],
   "source": [
    "site_meta"
   ]
  },
  {
   "cell_type": "code",
   "execution_count": 29,
   "metadata": {},
   "outputs": [],
   "source": [
    "def id_to_score(df, column_name):\n",
    "    df_counts = df[column_name].value_counts()\n",
    "    df_female_counts = df[df['target'] == 'female'][column_name].value_counts()\n",
    "    score = pd.concat([df_counts, df_female_counts], axis=1)\n",
    "    score['sex_score'] = score.iloc[:, 1] / score.iloc[:, 0]\n",
    "    score['sex_score'].fillna(0, inplace=True)\n",
    "    score.reset_index(inplace=True)\n",
    "    score.drop(columns=[column_name, column_name], inplace=True)\n",
    "    score.rename(columns={'index': column_name}, inplace=True)\n",
    "    ids_scored = df.merge(score[[column_name, 'sex_score']], on=column_name, how='left')\n",
    "    ids_by_user = ids_scored.groupby('user').agg({'sex_score':'mean', 'target':'last'})\n",
    "    ids_by_user.reset_index(inplace=True)\n",
    "    \n",
    "    return ids_by_user, score"
   ]
  },
  {
   "cell_type": "code",
   "execution_count": 30,
   "metadata": {},
   "outputs": [],
   "source": [
    "items_by_user, items_score = id_to_score(orders, 'orders')"
   ]
  },
  {
   "cell_type": "code",
   "execution_count": 33,
   "metadata": {},
   "outputs": [
    {
     "data": {
      "text/html": [
       "<div>\n",
       "<style scoped>\n",
       "    .dataframe tbody tr th:only-of-type {\n",
       "        vertical-align: middle;\n",
       "    }\n",
       "\n",
       "    .dataframe tbody tr th {\n",
       "        vertical-align: top;\n",
       "    }\n",
       "\n",
       "    .dataframe thead th {\n",
       "        text-align: right;\n",
       "    }\n",
       "</style>\n",
       "<table border=\"1\" class=\"dataframe\">\n",
       "  <thead>\n",
       "    <tr style=\"text-align: right;\">\n",
       "      <th></th>\n",
       "      <th>user</th>\n",
       "      <th>sex_score</th>\n",
       "      <th>target</th>\n",
       "    </tr>\n",
       "  </thead>\n",
       "  <tbody>\n",
       "    <tr>\n",
       "      <th>97728</th>\n",
       "      <td>user_72974</td>\n",
       "      <td>0.870125</td>\n",
       "      <td>female</td>\n",
       "    </tr>\n",
       "  </tbody>\n",
       "</table>\n",
       "</div>"
      ],
      "text/plain": [
       "             user  sex_score  target\n",
       "97728  user_72974   0.870125  female"
      ]
     },
     "execution_count": 33,
     "metadata": {},
     "output_type": "execute_result"
    }
   ],
   "source": [
    "items_by_user.sample()"
   ]
  },
  {
   "cell_type": "code",
   "execution_count": 32,
   "metadata": {},
   "outputs": [
    {
     "data": {
      "text/html": [
       "<div>\n",
       "<style scoped>\n",
       "    .dataframe tbody tr th:only-of-type {\n",
       "        vertical-align: middle;\n",
       "    }\n",
       "\n",
       "    .dataframe tbody tr th {\n",
       "        vertical-align: top;\n",
       "    }\n",
       "\n",
       "    .dataframe thead th {\n",
       "        text-align: right;\n",
       "    }\n",
       "</style>\n",
       "<table border=\"1\" class=\"dataframe\">\n",
       "  <thead>\n",
       "    <tr style=\"text-align: right;\">\n",
       "      <th></th>\n",
       "      <th>orders</th>\n",
       "      <th>sex_score</th>\n",
       "    </tr>\n",
       "  </thead>\n",
       "  <tbody>\n",
       "    <tr>\n",
       "      <th>904132</th>\n",
       "      <td>item_1955911</td>\n",
       "      <td>1.0</td>\n",
       "    </tr>\n",
       "  </tbody>\n",
       "</table>\n",
       "</div>"
      ],
      "text/plain": [
       "              orders  sex_score\n",
       "904132  item_1955911        1.0"
      ]
     },
     "execution_count": 32,
     "metadata": {},
     "output_type": "execute_result"
    }
   ],
   "source": [
    "items_score.sample()"
   ]
  },
  {
   "cell_type": "code",
   "execution_count": 34,
   "metadata": {},
   "outputs": [],
   "source": [
    "meta_by_user, meta_score = id_to_score(site_meta, 'site-meta')"
   ]
  },
  {
   "cell_type": "code",
   "execution_count": 35,
   "metadata": {},
   "outputs": [],
   "source": [
    "assambled_meta_item = meta_by_user.merge(items_by_user.drop(columns='target'), on='user', how='left')"
   ]
  },
  {
   "cell_type": "code",
   "execution_count": 36,
   "metadata": {},
   "outputs": [
    {
     "data": {
      "text/plain": [
       "True"
      ]
     },
     "execution_count": 36,
     "metadata": {},
     "output_type": "execute_result"
    }
   ],
   "source": [
    "# Тест на то, что ни одного юзера не потеряли\n",
    "len(users) == len(items_by_user) == len(meta_by_user) == len(assambled_meta_item)"
   ]
  },
  {
   "cell_type": "code",
   "execution_count": 37,
   "metadata": {},
   "outputs": [
    {
     "name": "stdout",
     "output_type": "stream",
     "text": [
      "Accuracy: 0.89\n",
      "Confusion Matrix:\n",
      "[[10973  1857]\n",
      " [  970 11751]]\n",
      "Classification Report:\n",
      "              precision    recall  f1-score   support\n",
      "\n",
      "      female       0.92      0.86      0.89     12830\n",
      "        male       0.86      0.92      0.89     12721\n",
      "\n",
      "    accuracy                           0.89     25551\n",
      "   macro avg       0.89      0.89      0.89     25551\n",
      "weighted avg       0.89      0.89      0.89     25551\n",
      "\n"
     ]
    }
   ],
   "source": [
    "import pandas as pd\n",
    "from sklearn.model_selection import train_test_split\n",
    "from sklearn.linear_model import LogisticRegression\n",
    "from sklearn.metrics import accuracy_score, classification_report, confusion_matrix\n",
    "\n",
    "X = assambled_meta_item.drop(columns=['user', 'target']).fillna(0.5)\n",
    "y = assambled_meta_item['target']\n",
    "\n",
    "X_train, X_test, y_train, y_test = train_test_split(X, y, test_size=0.2, random_state=42)\n",
    "\n",
    "model = LogisticRegression()\n",
    "\n",
    "model.fit(X_train, y_train)\n",
    "\n",
    "y_pred = model.predict(X_test)\n",
    "\n",
    "# Calculate accuracy\n",
    "accuracy = accuracy_score(y_test, y_pred)\n",
    "print(f'Accuracy: {accuracy:.2f}')\n",
    "\n",
    "# Display confusion matrix\n",
    "conf_matrix = confusion_matrix(y_test, y_pred)\n",
    "print('Confusion Matrix:')\n",
    "print(conf_matrix)\n",
    "\n",
    "# Display classification report\n",
    "class_report = classification_report(y_test, y_pred)\n",
    "print('Classification Report:')\n",
    "print(class_report)"
   ]
  },
  {
   "cell_type": "code",
   "execution_count": 38,
   "metadata": {},
   "outputs": [],
   "source": [
    "val = pd.read_json('val.json', orient='index').reset_index()\n",
    "val.rename(columns={'index':'user'}, inplace=True)\n",
    "val = pd.concat([val.drop('features', axis = 1), pd.json_normalize(val['features'])], axis = 1)\n"
   ]
  },
  {
   "cell_type": "code",
   "execution_count": 55,
   "metadata": {},
   "outputs": [],
   "source": [
    "orders = val.drop(columns=['visits', 'site-meta', 'exchange-sessions', 'last-visits-in-categories'])\n",
    "site_meta = val.drop(columns=['visits', 'orders', 'exchange-sessions', 'last-visits-in-categories'])\n",
    "orders['orders'] = orders['orders'].apply(lambda x: re.findall(r'item_\\d+', str(x)) if not isinstance(x, float) else x)\n",
    "site_meta['site-meta'] = site_meta['site-meta'].apply(lambda x: re.findall(r\"'site-id':\\s*(\\d+)\", str(x)) if not isinstance(x, float) else x)\n",
    "orders = orders.explode('orders')\n",
    "site_meta = site_meta.explode('site-meta')"
   ]
  },
  {
   "cell_type": "code",
   "execution_count": 60,
   "metadata": {},
   "outputs": [],
   "source": [
    "items_by_user = orders.merge(items_score, on='orders', how='left')\n",
    "items_by_user.drop(columns='orders', inplace=True)\n",
    "items_by_user = items_by_user.groupby('user').agg({'sex_score':'mean', 'target':'last'}).reset_index()\n",
    "meta_by_user = site_meta.merge(meta_score, on='site-meta', how='left')\n",
    "meta_by_user.drop(columns='site-meta', inplace=True)\n",
    "meta_by_user = meta_by_user.groupby('user').agg({'sex_score':'mean', 'target':'last'}).reset_index()"
   ]
  },
  {
   "cell_type": "code",
   "execution_count": 61,
   "metadata": {},
   "outputs": [],
   "source": [
    "assambled_meta_item = meta_by_user.merge(items_by_user.drop(columns='target'), on='user', how='left')"
   ]
  },
  {
   "cell_type": "code",
   "execution_count": 63,
   "metadata": {},
   "outputs": [
    {
     "name": "stdout",
     "output_type": "stream",
     "text": [
      "Accuracy: 0.74\n",
      "Confusion Matrix:\n",
      "[[10305  3421]\n",
      " [ 3727  9994]]\n",
      "Classification Report:\n",
      "              precision    recall  f1-score   support\n",
      "\n",
      "      female       0.73      0.75      0.74     13726\n",
      "        male       0.74      0.73      0.74     13721\n",
      "\n",
      "    accuracy                           0.74     27447\n",
      "   macro avg       0.74      0.74      0.74     27447\n",
      "weighted avg       0.74      0.74      0.74     27447\n",
      "\n"
     ]
    }
   ],
   "source": [
    "\n",
    "y_pred = model.predict(assambled_meta_item.drop(columns=['user', 'target']).fillna(0.5))\n",
    "y_test = assambled_meta_item['target']\n",
    "# Calculate accuracy\n",
    "accuracy = accuracy_score(y_test, y_pred)\n",
    "print(f'Accuracy: {accuracy:.2f}')\n",
    "\n",
    "# Display confusion matrix\n",
    "conf_matrix = confusion_matrix(y_test, y_pred)\n",
    "print('Confusion Matrix:')\n",
    "print(conf_matrix)\n",
    "\n",
    "# Display classification report\n",
    "class_report = classification_report(y_test, y_pred)\n",
    "print('Classification Report:')\n",
    "print(class_report)"
   ]
  },
  {
   "cell_type": "code",
   "execution_count": null,
   "metadata": {},
   "outputs": [],
   "source": []
  },
  {
   "cell_type": "code",
   "execution_count": 19,
   "metadata": {},
   "outputs": [],
   "source": []
  },
  {
   "cell_type": "code",
   "execution_count": 20,
   "metadata": {},
   "outputs": [
    {
     "name": "stdout",
     "output_type": "stream",
     "text": [
      "Epoch 1/50\n",
      "3194/3194 [==============================] - 4s 1ms/step - loss: 0.2743 - accuracy: 0.8736 - val_loss: 0.2478 - val_accuracy: 0.8897\n",
      "Epoch 2/50\n",
      "3194/3194 [==============================] - 3s 1ms/step - loss: 0.2535 - accuracy: 0.8875 - val_loss: 0.2486 - val_accuracy: 0.8881\n",
      "Epoch 3/50\n",
      "3194/3194 [==============================] - 3s 1ms/step - loss: 0.2515 - accuracy: 0.8895 - val_loss: 0.2466 - val_accuracy: 0.8894\n",
      "Epoch 4/50\n",
      "3194/3194 [==============================] - 3s 1ms/step - loss: 0.2506 - accuracy: 0.8893 - val_loss: 0.2466 - val_accuracy: 0.8899\n",
      "Epoch 5/50\n",
      "3194/3194 [==============================] - 3s 1ms/step - loss: 0.2504 - accuracy: 0.8897 - val_loss: 0.2471 - val_accuracy: 0.8905\n",
      "Epoch 6/50\n",
      "3194/3194 [==============================] - 3s 1ms/step - loss: 0.2499 - accuracy: 0.8895 - val_loss: 0.2460 - val_accuracy: 0.8895\n",
      "Epoch 7/50\n",
      "3194/3194 [==============================] - 3s 1ms/step - loss: 0.2498 - accuracy: 0.8895 - val_loss: 0.2459 - val_accuracy: 0.8897\n",
      "Epoch 8/50\n",
      "3194/3194 [==============================] - 3s 1ms/step - loss: 0.2499 - accuracy: 0.8891 - val_loss: 0.2460 - val_accuracy: 0.8903\n",
      "Epoch 9/50\n",
      "3194/3194 [==============================] - 3s 1ms/step - loss: 0.2486 - accuracy: 0.8903 - val_loss: 0.2486 - val_accuracy: 0.8899\n",
      "Epoch 10/50\n",
      "3194/3194 [==============================] - 3s 1ms/step - loss: 0.2490 - accuracy: 0.8898 - val_loss: 0.2457 - val_accuracy: 0.8896\n",
      "Epoch 11/50\n",
      "3194/3194 [==============================] - 3s 1ms/step - loss: 0.2485 - accuracy: 0.8895 - val_loss: 0.2494 - val_accuracy: 0.8896\n",
      "Epoch 12/50\n",
      "3194/3194 [==============================] - 3s 1ms/step - loss: 0.2484 - accuracy: 0.8894 - val_loss: 0.2482 - val_accuracy: 0.8897\n",
      "Epoch 13/50\n",
      "3194/3194 [==============================] - 3s 1ms/step - loss: 0.2484 - accuracy: 0.8904 - val_loss: 0.2471 - val_accuracy: 0.8873\n",
      "Epoch 14/50\n",
      "3194/3194 [==============================] - 3s 1ms/step - loss: 0.2477 - accuracy: 0.8899 - val_loss: 0.2461 - val_accuracy: 0.8907\n",
      "Epoch 15/50\n",
      "3194/3194 [==============================] - 3s 999us/step - loss: 0.2479 - accuracy: 0.8901 - val_loss: 0.2465 - val_accuracy: 0.8885\n",
      "Epoch 16/50\n",
      "3194/3194 [==============================] - 3s 1ms/step - loss: 0.2479 - accuracy: 0.8902 - val_loss: 0.2449 - val_accuracy: 0.8909\n",
      "Epoch 17/50\n",
      "3194/3194 [==============================] - 3s 1ms/step - loss: 0.2476 - accuracy: 0.8898 - val_loss: 0.2446 - val_accuracy: 0.8901\n",
      "Epoch 18/50\n",
      "3194/3194 [==============================] - 3s 1ms/step - loss: 0.2481 - accuracy: 0.8897 - val_loss: 0.2502 - val_accuracy: 0.8861\n",
      "Epoch 19/50\n",
      "3194/3194 [==============================] - 4s 1ms/step - loss: 0.2478 - accuracy: 0.8906 - val_loss: 0.2447 - val_accuracy: 0.8902\n",
      "Epoch 20/50\n",
      "3194/3194 [==============================] - 3s 1ms/step - loss: 0.2474 - accuracy: 0.8899 - val_loss: 0.2476 - val_accuracy: 0.8887\n",
      "Epoch 21/50\n",
      "3194/3194 [==============================] - 3s 1ms/step - loss: 0.2479 - accuracy: 0.8901 - val_loss: 0.2443 - val_accuracy: 0.8901\n",
      "Epoch 22/50\n",
      "3194/3194 [==============================] - 3s 1ms/step - loss: 0.2473 - accuracy: 0.8906 - val_loss: 0.2450 - val_accuracy: 0.8909\n",
      "Epoch 23/50\n",
      "3194/3194 [==============================] - 3s 1ms/step - loss: 0.2476 - accuracy: 0.8909 - val_loss: 0.2451 - val_accuracy: 0.8905\n",
      "Epoch 24/50\n",
      "3194/3194 [==============================] - 3s 1ms/step - loss: 0.2475 - accuracy: 0.8903 - val_loss: 0.2453 - val_accuracy: 0.8908\n",
      "Epoch 25/50\n",
      "3194/3194 [==============================] - 3s 1ms/step - loss: 0.2476 - accuracy: 0.8905 - val_loss: 0.2458 - val_accuracy: 0.8886\n",
      "Epoch 26/50\n",
      "3194/3194 [==============================] - 3s 1ms/step - loss: 0.2472 - accuracy: 0.8900 - val_loss: 0.2445 - val_accuracy: 0.8902\n",
      "Epoch 27/50\n",
      "3194/3194 [==============================] - 3s 1ms/step - loss: 0.2471 - accuracy: 0.8905 - val_loss: 0.2507 - val_accuracy: 0.8879\n",
      "Epoch 28/50\n",
      "3194/3194 [==============================] - 3s 1ms/step - loss: 0.2473 - accuracy: 0.8900 - val_loss: 0.2447 - val_accuracy: 0.8907\n",
      "Epoch 29/50\n",
      "3194/3194 [==============================] - 4s 1ms/step - loss: 0.2471 - accuracy: 0.8897 - val_loss: 0.2453 - val_accuracy: 0.8909\n",
      "Epoch 30/50\n",
      "3194/3194 [==============================] - 4s 1ms/step - loss: 0.2471 - accuracy: 0.8905 - val_loss: 0.2449 - val_accuracy: 0.8896\n",
      "Epoch 31/50\n",
      "3194/3194 [==============================] - 4s 1ms/step - loss: 0.2469 - accuracy: 0.8899 - val_loss: 0.2453 - val_accuracy: 0.8904\n",
      "Epoch 32/50\n",
      "3194/3194 [==============================] - 4s 1ms/step - loss: 0.2467 - accuracy: 0.8904 - val_loss: 0.2449 - val_accuracy: 0.8899\n",
      "Epoch 33/50\n",
      "3194/3194 [==============================] - 3s 1ms/step - loss: 0.2470 - accuracy: 0.8906 - val_loss: 0.2441 - val_accuracy: 0.8906\n",
      "Epoch 34/50\n",
      "3194/3194 [==============================] - 3s 1ms/step - loss: 0.2466 - accuracy: 0.8907 - val_loss: 0.2445 - val_accuracy: 0.8899\n",
      "Epoch 35/50\n",
      "3194/3194 [==============================] - 3s 1ms/step - loss: 0.2469 - accuracy: 0.8906 - val_loss: 0.2453 - val_accuracy: 0.8901\n",
      "Epoch 36/50\n",
      "3194/3194 [==============================] - 3s 1ms/step - loss: 0.2468 - accuracy: 0.8904 - val_loss: 0.2450 - val_accuracy: 0.8904\n",
      "Epoch 37/50\n",
      "3194/3194 [==============================] - 3s 1ms/step - loss: 0.2467 - accuracy: 0.8907 - val_loss: 0.2450 - val_accuracy: 0.8898\n",
      "Epoch 38/50\n",
      "3194/3194 [==============================] - 4s 1ms/step - loss: 0.2467 - accuracy: 0.8906 - val_loss: 0.2452 - val_accuracy: 0.8907\n",
      "Epoch 39/50\n",
      "3194/3194 [==============================] - 4s 1ms/step - loss: 0.2467 - accuracy: 0.8901 - val_loss: 0.2472 - val_accuracy: 0.8884\n",
      "Epoch 40/50\n",
      "3194/3194 [==============================] - 3s 1ms/step - loss: 0.2462 - accuracy: 0.8913 - val_loss: 0.2446 - val_accuracy: 0.8904\n",
      "Epoch 41/50\n",
      "3194/3194 [==============================] - 3s 1ms/step - loss: 0.2463 - accuracy: 0.8908 - val_loss: 0.2467 - val_accuracy: 0.8884\n",
      "Epoch 42/50\n",
      "3194/3194 [==============================] - 3s 1ms/step - loss: 0.2467 - accuracy: 0.8902 - val_loss: 0.2442 - val_accuracy: 0.8903\n",
      "Epoch 43/50\n",
      "3194/3194 [==============================] - 4s 1ms/step - loss: 0.2465 - accuracy: 0.8907 - val_loss: 0.2454 - val_accuracy: 0.8892\n",
      "Epoch 44/50\n",
      "3194/3194 [==============================] - 4s 1ms/step - loss: 0.2462 - accuracy: 0.8906 - val_loss: 0.2447 - val_accuracy: 0.8896\n",
      "Epoch 45/50\n",
      "3194/3194 [==============================] - 4s 1ms/step - loss: 0.2465 - accuracy: 0.8911 - val_loss: 0.2445 - val_accuracy: 0.8904\n",
      "Epoch 46/50\n",
      "3194/3194 [==============================] - 4s 1ms/step - loss: 0.2462 - accuracy: 0.8904 - val_loss: 0.2449 - val_accuracy: 0.8892\n",
      "Epoch 47/50\n",
      "3194/3194 [==============================] - 4s 1ms/step - loss: 0.2463 - accuracy: 0.8906 - val_loss: 0.2441 - val_accuracy: 0.8903\n",
      "Epoch 48/50\n",
      "3194/3194 [==============================] - 3s 1ms/step - loss: 0.2470 - accuracy: 0.8902 - val_loss: 0.2463 - val_accuracy: 0.8905\n",
      "Epoch 49/50\n",
      "3194/3194 [==============================] - 4s 1ms/step - loss: 0.2466 - accuracy: 0.8905 - val_loss: 0.2444 - val_accuracy: 0.8911\n",
      "Epoch 50/50\n",
      "3194/3194 [==============================] - 4s 1ms/step - loss: 0.2466 - accuracy: 0.8904 - val_loss: 0.2452 - val_accuracy: 0.8894\n",
      "799/799 [==============================] - 0s 526us/step\n",
      "Точность модели: 0.8894368126492114\n"
     ]
    }
   ],
   "source": [
    "# # Нейронкой можно улучшить скор, но необходимы эксперименты\n",
    "\n",
    "# import tensorflow as tf\n",
    "# from sklearn.model_selection import train_test_split\n",
    "# from sklearn.metrics import accuracy_score\n",
    "\n",
    "# assambled_meta_item['target_bi'] = assambled_meta_item['target'].map({'female': 1, 'male': 0})\n",
    "# X = assambled_meta_item.drop(columns=['user', 'target', 'target_bi']).fillna(0.5)\n",
    "# y = assambled_meta_item['target_bi']\n",
    "\n",
    "# X_train, X_test, y_train, y_test = train_test_split(X, y, test_size=0.2, random_state=42)\n",
    "\n",
    "# # Создание модели нейронной сети\n",
    "# model = tf.keras.Sequential([\n",
    "#     tf.keras.layers.Dense(128, activation='relu', input_shape=(X_train.shape[1],)),\n",
    "#     tf.keras.layers.Dropout(0.5),\n",
    "#     tf.keras.layers.Dense(64, activation='relu'),\n",
    "#     tf.keras.layers.Dense(1, activation='sigmoid')\n",
    "# ])\n",
    "\n",
    "\n",
    "# # Компиляция модели\n",
    "# model.compile(optimizer='adam', loss='binary_crossentropy', metrics=['accuracy'])\n",
    "\n",
    "# # Обучение модели\n",
    "# model.fit(X_train, y_train, epochs=50, batch_size=32, validation_data=(X_test, y_test))\n",
    "\n",
    "# # Оценка модели на тестовом наборе\n",
    "# y_pred_prob = model.predict(X_test)\n",
    "# y_pred = (y_pred_prob > 0.5).astype(int)\n",
    "\n",
    "# # Оценка точности\n",
    "# accuracy = accuracy_score(y_test, y_pred)\n",
    "# print(f'Точность модели: {accuracy}')\n"
   ]
  }
 ],
 "metadata": {
  "kernelspec": {
   "display_name": "Python 3",
   "language": "python",
   "name": "python3"
  },
  "language_info": {
   "codemirror_mode": {
    "name": "ipython",
    "version": 3
   },
   "file_extension": ".py",
   "mimetype": "text/x-python",
   "name": "python",
   "nbconvert_exporter": "python",
   "pygments_lexer": "ipython3",
   "version": "3.10.11"
  }
 },
 "nbformat": 4,
 "nbformat_minor": 2
}
