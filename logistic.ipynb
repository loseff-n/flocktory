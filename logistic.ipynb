{
 "cells": [
  {
   "cell_type": "code",
   "execution_count": 1,
   "id": "8d3f939f",
   "metadata": {},
   "outputs": [],
   "source": [
    "import json\n",
    "import pandas as pd\n",
    "import numpy as np\n",
    "from tqdm import tqdm\n",
    "\n",
    "\n",
    "def read_json(data_path, dataset_type):\n",
    "    with open(data_path+f\"{dataset_type}.json\", \"rb\") as f:\n",
    "        json_object = json.load(f)\n",
    "\n",
    "    return json_object\n",
    "\n",
    "\n",
    "def parse_visits(json_object):\n",
    "    # parse json\n",
    "    df = pd.DataFrame()\n",
    "    for j in range(len(list(json_object.keys()))):\n",
    "        key = list(json_object.keys())[j]\n",
    "        dfl1 = pd.DataFrame()\n",
    "        if \"visits\" in json_object[key][\"features\"]:\n",
    "            for i in range(len(json_object[key][\"features\"][\"visits\"])):\n",
    "                n = len(pd.json_normalize(json_object[key][\"features\"][\"visits\"][i][\"visits\"]))\n",
    "                dfl2 = pd.concat([\n",
    "                        pd.concat(\n",
    "                            [pd.json_normalize(json_object[key][\"features\"][\"visits\"][i])] * n, \n",
    "                            ignore_index=True\n",
    "                        )[[\"site-id\", \"first-seen\", \"last-seen\"]],\n",
    "                        pd.json_normalize(json_object[key][\"features\"][\"visits\"][i][\"visits\"])\n",
    "                    ], axis=1)\n",
    "                dfl1 = pd.concat([dfl1, dfl2]).reset_index(drop=True)\n",
    "        dfl1[\"user\"] = [key] * len(dfl1)\n",
    "        if \"target\" in json_object[key].keys():\n",
    "            dfl1[\"target\"] = json_object[key][\"target\"]\n",
    "        df = pd.concat([df, dfl1]).reset_index(drop=True)\n",
    "\n",
    "    df = df.explode(\"visited-items\", ignore_index=True)\n",
    "    df = df.explode(\"visited-general-categories\", ignore_index=True)\n",
    "    df = df.explode(\"visited-universal-brands\", ignore_index=True)\n",
    "    \n",
    "    return df "
   ]
  },
  {
   "cell_type": "code",
   "execution_count": 2,
   "id": "096568b9",
   "metadata": {},
   "outputs": [],
   "source": [
    "# Функция собирает все [\"site-meta\"]['site-id']\n",
    "\n",
    "def parse_site_meta_ids(json_object):\n",
    "\n",
    "    # Создаем пустой df\n",
    "    df = pd.DataFrame()\n",
    "    # Проходим по ключам словаря (users)\n",
    "    for j in range(len(list(json_object.keys()))):\n",
    "        key = list(json_object.keys())[j]\n",
    "        # Создаем пустой df для итерации по юзерам\n",
    "        dfl1 = pd.DataFrame()\n",
    "        if \"site-meta\" in json_object[key][\"features\"]:\n",
    "            dfl2 = pd.json_normalize(json_object[key][\"features\"][\"site-meta\"])['site-id']\n",
    "            dfl1 = pd.concat([dfl1, dfl2]).reset_index(drop=True)\n",
    "        # Добавляем ключ (user)\n",
    "        dfl1[\"user\"] = [key] * len(dfl1)\n",
    "        # Добавляем пол (target)\n",
    "        if \"target\" in json_object[key].keys():\n",
    "            dfl1[\"target\"] = json_object[key][\"target\"]\n",
    "        # Пришиваем полученный df к итоговому\n",
    "        df = pd.concat([df, dfl1]).reset_index(drop=True)\n",
    "    \n",
    "    return df "
   ]
  },
  {
   "cell_type": "code",
   "execution_count": 3,
   "id": "5ebd8f3a",
   "metadata": {},
   "outputs": [],
   "source": [
    "# Функция замены site_id на унифицированный sex_score\n",
    "\n",
    "def replace_site_id(df, column_name=0):\n",
    "    # Переводим пол в бинарный признак через One-Hot Encoding\n",
    "    df_encoded = pd.get_dummies(df, columns=['target'], prefix='target')\n",
    "    # Группируем по сайту, считаем sex.score (уровень феминности) для каждого сайта\n",
    "    df_grouped = df_encoded.groupby(column_name).agg({'user':'count', 'target_female':'sum'}).reset_index()\n",
    "    df_grouped['target_female'] = df_grouped['target_female'] / df_grouped['user']\n",
    "    # Переводим sex.scores в словарь\n",
    "    df_grouped.set_index(column_name, drop=True, inplace=True)\n",
    "    sex_score_dic = df_grouped['target_female'].to_dict()\n",
    "    # Заменяем site_id на sex.score\n",
    "    df[column_name] = df[column_name].replace(sex_score_dic)\n",
    "    df = df.groupby('user').agg({column_name: 'mean', 'target': 'last'}).reset_index()\n",
    "    return df"
   ]
  },
  {
   "cell_type": "code",
   "execution_count": 4,
   "id": "75c357bd",
   "metadata": {},
   "outputs": [],
   "source": [
    "data_path = \"flocktory/data/\"\n",
    "dataset_type = \"val\"\n",
    "data = read_json(data_path, dataset_type)"
   ]
  },
  {
   "cell_type": "code",
   "execution_count": 5,
   "id": "30dd4636",
   "metadata": {},
   "outputs": [],
   "source": [
    "visits = parse_visits(data)"
   ]
  },
  {
   "cell_type": "code",
   "execution_count": 10,
   "id": "3e420916",
   "metadata": {},
   "outputs": [],
   "source": [
    "visits.to_csv('visits.csv', index=False)"
   ]
  },
  {
   "cell_type": "code",
   "execution_count": 6,
   "id": "412340d9",
   "metadata": {},
   "outputs": [
    {
     "data": {
      "text/html": [
       "<div>\n",
       "<style scoped>\n",
       "    .dataframe tbody tr th:only-of-type {\n",
       "        vertical-align: middle;\n",
       "    }\n",
       "\n",
       "    .dataframe tbody tr th {\n",
       "        vertical-align: top;\n",
       "    }\n",
       "\n",
       "    .dataframe thead th {\n",
       "        text-align: right;\n",
       "    }\n",
       "</style>\n",
       "<table border=\"1\" class=\"dataframe\">\n",
       "  <thead>\n",
       "    <tr style=\"text-align: right;\">\n",
       "      <th></th>\n",
       "      <th>site-id</th>\n",
       "      <th>first-seen</th>\n",
       "      <th>last-seen</th>\n",
       "      <th>visited-at</th>\n",
       "      <th>session-duration</th>\n",
       "      <th>pages-count</th>\n",
       "      <th>user</th>\n",
       "      <th>target</th>\n",
       "      <th>visited-items</th>\n",
       "      <th>visited-general-categories</th>\n",
       "      <th>visited-universal-brands</th>\n",
       "    </tr>\n",
       "  </thead>\n",
       "  <tbody>\n",
       "    <tr>\n",
       "      <th>16504150</th>\n",
       "      <td>20.0</td>\n",
       "      <td>1.686404e+09</td>\n",
       "      <td>1.698765e+09</td>\n",
       "      <td>1.697120e+09</td>\n",
       "      <td>1.0</td>\n",
       "      <td>1.0</td>\n",
       "      <td>user_140696</td>\n",
       "      <td>female</td>\n",
       "      <td>item_78685</td>\n",
       "      <td>91392</td>\n",
       "      <td>15859</td>\n",
       "    </tr>\n",
       "    <tr>\n",
       "      <th>6355705</th>\n",
       "      <td>20.0</td>\n",
       "      <td>1.685796e+09</td>\n",
       "      <td>1.698695e+09</td>\n",
       "      <td>1.698572e+09</td>\n",
       "      <td>74.0</td>\n",
       "      <td>11.0</td>\n",
       "      <td>user_132276</td>\n",
       "      <td>female</td>\n",
       "      <td>item_3130602</td>\n",
       "      <td>7812195</td>\n",
       "      <td>1756</td>\n",
       "    </tr>\n",
       "    <tr>\n",
       "      <th>35915980</th>\n",
       "      <td>20.0</td>\n",
       "      <td>1.637851e+09</td>\n",
       "      <td>1.699265e+09</td>\n",
       "      <td>1.699103e+09</td>\n",
       "      <td>258.0</td>\n",
       "      <td>5.0</td>\n",
       "      <td>user_149563</td>\n",
       "      <td>male</td>\n",
       "      <td>item_6009276</td>\n",
       "      <td>2724669</td>\n",
       "      <td>1936252</td>\n",
       "    </tr>\n",
       "  </tbody>\n",
       "</table>\n",
       "</div>"
      ],
      "text/plain": [
       "          site-id    first-seen     last-seen    visited-at  session-duration  \\\n",
       "16504150     20.0  1.686404e+09  1.698765e+09  1.697120e+09               1.0   \n",
       "6355705      20.0  1.685796e+09  1.698695e+09  1.698572e+09              74.0   \n",
       "35915980     20.0  1.637851e+09  1.699265e+09  1.699103e+09             258.0   \n",
       "\n",
       "          pages-count         user  target visited-items  \\\n",
       "16504150          1.0  user_140696  female    item_78685   \n",
       "6355705          11.0  user_132276  female  item_3130602   \n",
       "35915980          5.0  user_149563    male  item_6009276   \n",
       "\n",
       "         visited-general-categories visited-universal-brands  \n",
       "16504150                      91392                    15859  \n",
       "6355705                     7812195                     1756  \n",
       "35915980                    2724669                  1936252  "
      ]
     },
     "execution_count": 6,
     "metadata": {},
     "output_type": "execute_result"
    }
   ],
   "source": [
    "visits.sample(3)"
   ]
  },
  {
   "cell_type": "code",
   "execution_count": 7,
   "id": "aca5f094",
   "metadata": {},
   "outputs": [
    {
     "data": {
      "text/plain": [
       "site-id                       0.000000\n",
       "first-seen                    0.000000\n",
       "last-seen                     0.000000\n",
       "visited-at                    0.000000\n",
       "session-duration              0.000000\n",
       "pages-count                   0.000000\n",
       "user                          0.000000\n",
       "target                        0.000000\n",
       "visited-items                 0.009908\n",
       "visited-general-categories    0.012323\n",
       "visited-universal-brands      0.015231\n",
       "dtype: float64"
      ]
     },
     "execution_count": 7,
     "metadata": {},
     "output_type": "execute_result"
    }
   ],
   "source": [
    "visits.isna().mean()"
   ]
  },
  {
   "cell_type": "code",
   "execution_count": 8,
   "id": "18ac6d82",
   "metadata": {},
   "outputs": [
    {
     "data": {
      "text/plain": [
       "18461"
      ]
     },
     "execution_count": 8,
     "metadata": {},
     "output_type": "execute_result"
    }
   ],
   "source": [
    "visits['visited-universal-brands'].nunique()"
   ]
  },
  {
   "cell_type": "code",
   "execution_count": 9,
   "id": "36a65fbb",
   "metadata": {},
   "outputs": [
    {
     "name": "stderr",
     "output_type": "stream",
     "text": [
      "C:\\Users\\nykmy\\AppData\\Local\\Temp\\ipykernel_32844\\1788893656.py:13: SettingWithCopyWarning: \n",
      "A value is trying to be set on a copy of a slice from a DataFrame.\n",
      "Try using .loc[row_indexer,col_indexer] = value instead\n",
      "\n",
      "See the caveats in the documentation: https://pandas.pydata.org/pandas-docs/stable/user_guide/indexing.html#returning-a-view-versus-a-copy\n",
      "  df[column_name] = df[column_name].replace(sex_score_dic)\n"
     ]
    }
   ],
   "source": [
    "visited_universal_brands = replace_site_id(visits[['visited-universal-brands', 'user', 'target']], column_name='visited-universal-brands')"
   ]
  },
  {
   "cell_type": "code",
   "execution_count": 11,
   "id": "5c0272b2",
   "metadata": {},
   "outputs": [],
   "source": [
    "visited_universal_brands.to_csv('visits.csv', index=False)"
   ]
  },
  {
   "cell_type": "code",
   "execution_count": 12,
   "id": "9a1aeacb",
   "metadata": {},
   "outputs": [
    {
     "data": {
      "text/plain": [
       "user                        0.00000\n",
       "visited-universal-brands    0.48937\n",
       "target                      0.00000\n",
       "dtype: float64"
      ]
     },
     "execution_count": 12,
     "metadata": {},
     "output_type": "execute_result"
    }
   ],
   "source": [
    "visited_universal_brands.isna().mean()"
   ]
  },
  {
   "cell_type": "code",
   "execution_count": 13,
   "id": "dad2d853",
   "metadata": {},
   "outputs": [
    {
     "name": "stdout",
     "output_type": "stream",
     "text": [
      "Accuracy: 0.63\n",
      "Confusion Matrix:\n",
      "[[1133 1536]\n",
      " [ 477 2263]]\n",
      "Classification Report:\n",
      "              precision    recall  f1-score   support\n",
      "\n",
      "      female       0.70      0.42      0.53      2669\n",
      "        male       0.60      0.83      0.69      2740\n",
      "\n",
      "    accuracy                           0.63      5409\n",
      "   macro avg       0.65      0.63      0.61      5409\n",
      "weighted avg       0.65      0.63      0.61      5409\n",
      "\n"
     ]
    }
   ],
   "source": [
    "import pandas as pd\n",
    "from sklearn.model_selection import train_test_split\n",
    "from sklearn.linear_model import LogisticRegression\n",
    "from sklearn.metrics import accuracy_score, classification_report, confusion_matrix\n",
    "\n",
    "X = visited_universal_brands[['visited-universal-brands']].fillna(0.5)\n",
    "y = visited_universal_brands['target']\n",
    "\n",
    "X_train, X_test, y_train, y_test = train_test_split(X, y, test_size=0.2, random_state=42)\n",
    "\n",
    "model = LogisticRegression()\n",
    "\n",
    "model.fit(X_train, y_train)\n",
    "\n",
    "y_pred = model.predict(X_test)\n",
    "\n",
    "# Calculate accuracy\n",
    "accuracy = accuracy_score(y_test, y_pred)\n",
    "print(f'Accuracy: {accuracy:.2f}')\n",
    "\n",
    "# Display confusion matrix\n",
    "conf_matrix = confusion_matrix(y_test, y_pred)\n",
    "print('Confusion Matrix:')\n",
    "print(conf_matrix)\n",
    "\n",
    "# Display classification report\n",
    "class_report = classification_report(y_test, y_pred)\n",
    "print('Classification Report:')\n",
    "print(class_report)"
   ]
  },
  {
   "cell_type": "code",
   "execution_count": 14,
   "id": "f11e88b2",
   "metadata": {},
   "outputs": [],
   "source": [
    "meta_ids = parse_site_meta_ids(data)"
   ]
  },
  {
   "cell_type": "code",
   "execution_count": 15,
   "id": "f4927f2e",
   "metadata": {},
   "outputs": [],
   "source": [
    "replaced_meta_df = replace_site_id(meta_ids)"
   ]
  },
  {
   "cell_type": "code",
   "execution_count": 16,
   "id": "0f29c279",
   "metadata": {},
   "outputs": [
    {
     "name": "stdout",
     "output_type": "stream",
     "text": [
      "Accuracy: 0.80\n",
      "Confusion Matrix:\n",
      "[[2216  566]\n",
      " [ 557 2151]]\n",
      "Classification Report:\n",
      "              precision    recall  f1-score   support\n",
      "\n",
      "      female       0.80      0.80      0.80      2782\n",
      "        male       0.79      0.79      0.79      2708\n",
      "\n",
      "    accuracy                           0.80      5490\n",
      "   macro avg       0.80      0.80      0.80      5490\n",
      "weighted avg       0.80      0.80      0.80      5490\n",
      "\n"
     ]
    }
   ],
   "source": [
    "import pandas as pd\n",
    "from sklearn.model_selection import train_test_split\n",
    "from sklearn.linear_model import LogisticRegression\n",
    "from sklearn.metrics import accuracy_score, classification_report, confusion_matrix\n",
    "\n",
    "X = replaced_meta_df[[0]]\n",
    "y = replaced_meta_df['target']\n",
    "\n",
    "X_train, X_test, y_train, y_test = train_test_split(X, y, test_size=0.2, random_state=42)\n",
    "\n",
    "model = LogisticRegression()\n",
    "\n",
    "model.fit(X_train, y_train)\n",
    "\n",
    "y_pred = model.predict(X_test)\n",
    "\n",
    "# Calculate accuracy\n",
    "accuracy = accuracy_score(y_test, y_pred)\n",
    "print(f'Accuracy: {accuracy:.2f}')\n",
    "\n",
    "# Display confusion matrix\n",
    "conf_matrix = confusion_matrix(y_test, y_pred)\n",
    "print('Confusion Matrix:')\n",
    "print(conf_matrix)\n",
    "\n",
    "# Display classification report\n",
    "class_report = classification_report(y_test, y_pred)\n",
    "print('Classification Report:')\n",
    "print(class_report)"
   ]
  },
  {
   "cell_type": "code",
   "execution_count": 22,
   "id": "cde0dc84",
   "metadata": {},
   "outputs": [],
   "source": [
    "replaced_meta_df.rename(columns={0:'meta_site_id'}, inplace=True)\n",
    "merged_df_ = replaced_meta_df.merge(visited_universal_brands[['user', 'visited-universal-brands']], on='user', how='left')"
   ]
  },
  {
   "cell_type": "code",
   "execution_count": 23,
   "id": "cfbc0d60",
   "metadata": {},
   "outputs": [
    {
     "name": "stdout",
     "output_type": "stream",
     "text": [
      "Accuracy: 0.82\n",
      "Confusion Matrix:\n",
      "[[2265  517]\n",
      " [ 495 2213]]\n",
      "Classification Report:\n",
      "              precision    recall  f1-score   support\n",
      "\n",
      "      female       0.82      0.81      0.82      2782\n",
      "        male       0.81      0.82      0.81      2708\n",
      "\n",
      "    accuracy                           0.82      5490\n",
      "   macro avg       0.82      0.82      0.82      5490\n",
      "weighted avg       0.82      0.82      0.82      5490\n",
      "\n"
     ]
    }
   ],
   "source": [
    "import pandas as pd\n",
    "from sklearn.model_selection import train_test_split\n",
    "from sklearn.linear_model import LogisticRegression\n",
    "from sklearn.metrics import accuracy_score, classification_report, confusion_matrix\n",
    "\n",
    "X = merged_df_.drop(columns=['user', 'target']).fillna(0.5)\n",
    "y = merged_df_['target']\n",
    "\n",
    "X_train, X_test, y_train, y_test = train_test_split(X, y, test_size=0.2, random_state=42)\n",
    "\n",
    "model = LogisticRegression()\n",
    "\n",
    "model.fit(X_train, y_train)\n",
    "\n",
    "y_pred = model.predict(X_test)\n",
    "\n",
    "# Calculate accuracy\n",
    "accuracy = accuracy_score(y_test, y_pred)\n",
    "print(f'Accuracy: {accuracy:.2f}')\n",
    "\n",
    "# Display confusion matrix\n",
    "conf_matrix = confusion_matrix(y_test, y_pred)\n",
    "print('Confusion Matrix:')\n",
    "print(conf_matrix)\n",
    "\n",
    "# Display classification report\n",
    "class_report = classification_report(y_test, y_pred)\n",
    "print('Classification Report:')\n",
    "print(class_report)"
   ]
  },
  {
   "cell_type": "code",
   "execution_count": null,
   "id": "c37bcb61",
   "metadata": {},
   "outputs": [],
   "source": []
  }
 ],
 "metadata": {
  "kernelspec": {
   "display_name": "Python 3 (ipykernel)",
   "language": "python",
   "name": "python3"
  },
  "language_info": {
   "codemirror_mode": {
    "name": "ipython",
    "version": 3
   },
   "file_extension": ".py",
   "mimetype": "text/x-python",
   "name": "python",
   "nbconvert_exporter": "python",
   "pygments_lexer": "ipython3",
   "version": "3.11.5"
  }
 },
 "nbformat": 4,
 "nbformat_minor": 5
}
